{
 "cells": [
  {
   "cell_type": "code",
   "execution_count": 20,
   "metadata": {},
   "outputs": [],
   "source": [
    "import pandas as pd\n",
    "import ast\n",
    "import numpy as np\n",
    "from IPython.display import display, clear_output, HTML\n",
    "from scipy.spatial import distance_matrix\n",
    "import matplotlib.pyplot as plt"
   ]
  },
  {
   "cell_type": "markdown",
   "metadata": {},
   "source": [
    "# Similarity Scheme\n",
    "Each product's ingredients will be given a weight based on its position in the list. To generate the similarity score between two different products, each matched ingredient's weights will be multiplied together, and then all of those will be summed. Finally, this sum is divided by the maximum possible score (which is the weights from the shorter list squared and then summed).\n",
    "\n",
    "To get the weights, we will use the geometric distribution."
   ]
  },
  {
   "cell_type": "markdown",
   "metadata": {},
   "source": [
    "![Geometric Distribution (from Wikipedia)](images/geometric_distribution.png)"
   ]
  },
  {
   "cell_type": "markdown",
   "metadata": {},
   "source": [
    "**Geometric distribution:**\n",
    "The probability that the first occurrence of success requires $i$ independent trials each with success probability $p$.\n",
    "$$\n",
    "p(1 - p) ^ {i - 1}\n",
    "$$\n",
    "A smaller p will produce more evenly distributed weights, whereas a larger p will put more importance on earlier ingredients."
   ]
  },
  {
   "cell_type": "code",
   "execution_count": 7,
   "metadata": {},
   "outputs": [
    {
     "data": {
      "text/plain": [
       "[0.29747739171822934,\n",
       " 0.23798191337458352,\n",
       " 0.19038553069966682,\n",
       " 0.15230842455973348,\n",
       " 0.12184673964778678]"
      ]
     },
     "execution_count": 7,
     "metadata": {},
     "output_type": "execute_result"
    }
   ],
   "source": [
    "# uses a geometric distribution so each weight\n",
    "# decreases geometrically according to its position.\n",
    "def generate_weights(n, p):\n",
    "    weights = []\n",
    "    total_weight = 0\n",
    "    for i in range(1, n + 1):\n",
    "        weight = p * ((1 - p) ** (i - 1)) # geometric pdf\n",
    "        weights.append(weight)\n",
    "        total_weight += weight\n",
    "    normalized_weights = [weight / total_weight for weight in weights]\n",
    "    return normalized_weights\n",
    "\n",
    "generate_weights(5, 0.2)"
   ]
  },
  {
   "cell_type": "markdown",
   "metadata": {},
   "source": [
    "## Weighted Distance Matrix\n",
    "The goal of this similarity scheme is to produce a distance matrix that judges the \"distance\" of the products based on the geometric weights assigned to each ingredient. We will use every unique ingredient included in the dataset so that each product has a weight assigned to each possible ingredient (if it doesn't have a particular ingredient, the weight is 0).\n",
    "\n",
    "First, we need to import the data (formatted in `0_data_preprocess.ipynb`) and add the weights column."
   ]
  },
  {
   "cell_type": "code",
   "execution_count": 86,
   "metadata": {},
   "outputs": [
    {
     "data": {
      "text/html": [
       "<div>\n",
       "<style scoped>\n",
       "    .dataframe tbody tr th:only-of-type {\n",
       "        vertical-align: middle;\n",
       "    }\n",
       "\n",
       "    .dataframe tbody tr th {\n",
       "        vertical-align: top;\n",
       "    }\n",
       "\n",
       "    .dataframe thead th {\n",
       "        text-align: right;\n",
       "    }\n",
       "</style>\n",
       "<table border=\"1\" class=\"dataframe\">\n",
       "  <thead>\n",
       "    <tr style=\"text-align: right;\">\n",
       "      <th></th>\n",
       "      <th>Label</th>\n",
       "      <th>Brand</th>\n",
       "      <th>Name</th>\n",
       "      <th>Price</th>\n",
       "      <th>Rank</th>\n",
       "      <th>Ingredients</th>\n",
       "      <th>Combination</th>\n",
       "      <th>Dry</th>\n",
       "      <th>Normal</th>\n",
       "      <th>Oily</th>\n",
       "      <th>Sensitive</th>\n",
       "      <th>Cosing Ref No</th>\n",
       "      <th>INCI Name</th>\n",
       "      <th>Function</th>\n",
       "    </tr>\n",
       "  </thead>\n",
       "  <tbody>\n",
       "    <tr>\n",
       "      <th>0</th>\n",
       "      <td>Moisturizer</td>\n",
       "      <td>LA MER</td>\n",
       "      <td>Crème de la Mer</td>\n",
       "      <td>175</td>\n",
       "      <td>4.1</td>\n",
       "      <td>[Algae (Seaweed) Extract,  Mineral Oil,  Petro...</td>\n",
       "      <td>1</td>\n",
       "      <td>1</td>\n",
       "      <td>1</td>\n",
       "      <td>1</td>\n",
       "      <td>1</td>\n",
       "      <td>[54290.0, 95058.0, 79504.0, 34040.0, 34654.0, ...</td>\n",
       "      <td>[ALGAE EXTRACT, HYDROGENATED MINERAL OIL, PETR...</td>\n",
       "      <td>[FRAGRANCE, HUMECTANT, ORAL CARE, SKIN CONDITI...</td>\n",
       "    </tr>\n",
       "    <tr>\n",
       "      <th>1</th>\n",
       "      <td>Moisturizer</td>\n",
       "      <td>SK-II</td>\n",
       "      <td>Facial Treatment Essence</td>\n",
       "      <td>179</td>\n",
       "      <td>4.1</td>\n",
       "      <td>[Galactomyces Ferment Filtrate (Pitera),  Buty...</td>\n",
       "      <td>1</td>\n",
       "      <td>1</td>\n",
       "      <td>1</td>\n",
       "      <td>1</td>\n",
       "      <td>1</td>\n",
       "      <td>[84397, 74756, 58983, 92472, 37735, 35342, 38173]</td>\n",
       "      <td>[GALACTOMYCES FERMENT FILTRATE, BUTYLENE GLYCO...</td>\n",
       "      <td>[HUMECTANT, FRAGRANCE, HUMECTANT, SKIN CONDITI...</td>\n",
       "    </tr>\n",
       "    <tr>\n",
       "      <th>2</th>\n",
       "      <td>Moisturizer</td>\n",
       "      <td>DRUNK ELEPHANT</td>\n",
       "      <td>Protini™ Polypeptide Cream</td>\n",
       "      <td>68</td>\n",
       "      <td>4.4</td>\n",
       "      <td>[Water,  Dicaprylyl Carbonate,  Glycerin,  Cet...</td>\n",
       "      <td>1</td>\n",
       "      <td>1</td>\n",
       "      <td>1</td>\n",
       "      <td>1</td>\n",
       "      <td>0</td>\n",
       "      <td>[92472, 55832, 34040, 75132, 55337, 38182, 583...</td>\n",
       "      <td>[WATER, DICAPRYLYL CARBONATE, GLYCERIN, CETEAR...</td>\n",
       "      <td>[ANTIPLAQUE, SKIN CONDITIONING, SOLVENT, SKIN ...</td>\n",
       "    </tr>\n",
       "  </tbody>\n",
       "</table>\n",
       "</div>"
      ],
      "text/plain": [
       "         Label           Brand                        Name  Price  Rank  \\\n",
       "0  Moisturizer          LA MER             Crème de la Mer    175   4.1   \n",
       "1  Moisturizer           SK-II    Facial Treatment Essence    179   4.1   \n",
       "2  Moisturizer  DRUNK ELEPHANT  Protini™ Polypeptide Cream     68   4.4   \n",
       "\n",
       "                                         Ingredients  Combination  Dry  \\\n",
       "0  [Algae (Seaweed) Extract,  Mineral Oil,  Petro...            1    1   \n",
       "1  [Galactomyces Ferment Filtrate (Pitera),  Buty...            1    1   \n",
       "2  [Water,  Dicaprylyl Carbonate,  Glycerin,  Cet...            1    1   \n",
       "\n",
       "   Normal  Oily  Sensitive                                      Cosing Ref No  \\\n",
       "0       1     1          1  [54290.0, 95058.0, 79504.0, 34040.0, 34654.0, ...   \n",
       "1       1     1          1  [84397, 74756, 58983, 92472, 37735, 35342, 38173]   \n",
       "2       1     1          0  [92472, 55832, 34040, 75132, 55337, 38182, 583...   \n",
       "\n",
       "                                           INCI Name  \\\n",
       "0  [ALGAE EXTRACT, HYDROGENATED MINERAL OIL, PETR...   \n",
       "1  [GALACTOMYCES FERMENT FILTRATE, BUTYLENE GLYCO...   \n",
       "2  [WATER, DICAPRYLYL CARBONATE, GLYCERIN, CETEAR...   \n",
       "\n",
       "                                            Function  \n",
       "0  [FRAGRANCE, HUMECTANT, ORAL CARE, SKIN CONDITI...  \n",
       "1  [HUMECTANT, FRAGRANCE, HUMECTANT, SKIN CONDITI...  \n",
       "2  [ANTIPLAQUE, SKIN CONDITIONING, SOLVENT, SKIN ...  "
      ]
     },
     "execution_count": 86,
     "metadata": {},
     "output_type": "execute_result"
    }
   ],
   "source": [
    "# Dataframe exported/imported as a pickle to preserve \n",
    "# the columns with a list format (csv gets messy)\n",
    "df = pd.read_pickle('data/skincare_products_listed.pickle')\n",
    "df.head(3)"
   ]
  },
  {
   "cell_type": "code",
   "execution_count": 61,
   "metadata": {},
   "outputs": [
    {
     "data": {
      "text/html": [
       "<div>\n",
       "<style scoped>\n",
       "    .dataframe tbody tr th:only-of-type {\n",
       "        vertical-align: middle;\n",
       "    }\n",
       "\n",
       "    .dataframe tbody tr th {\n",
       "        vertical-align: top;\n",
       "    }\n",
       "\n",
       "    .dataframe thead th {\n",
       "        text-align: right;\n",
       "    }\n",
       "</style>\n",
       "<table border=\"1\" class=\"dataframe\">\n",
       "  <thead>\n",
       "    <tr style=\"text-align: right;\">\n",
       "      <th></th>\n",
       "      <th>Label</th>\n",
       "      <th>Brand</th>\n",
       "      <th>Name</th>\n",
       "      <th>Price</th>\n",
       "      <th>Rank</th>\n",
       "      <th>Ingredients</th>\n",
       "      <th>Combination</th>\n",
       "      <th>Dry</th>\n",
       "      <th>Normal</th>\n",
       "      <th>Oily</th>\n",
       "      <th>Sensitive</th>\n",
       "      <th>Cosing Ref No</th>\n",
       "      <th>INCI Name</th>\n",
       "      <th>Function</th>\n",
       "      <th>Weights</th>\n",
       "    </tr>\n",
       "  </thead>\n",
       "  <tbody>\n",
       "    <tr>\n",
       "      <th>0</th>\n",
       "      <td>Moisturizer</td>\n",
       "      <td>LA MER</td>\n",
       "      <td>Crème de la Mer</td>\n",
       "      <td>175</td>\n",
       "      <td>4.1</td>\n",
       "      <td>[Algae (Seaweed) Extract,  Mineral Oil,  Petro...</td>\n",
       "      <td>1</td>\n",
       "      <td>1</td>\n",
       "      <td>1</td>\n",
       "      <td>1</td>\n",
       "      <td>1</td>\n",
       "      <td>[54290.0, 95058.0, 79504.0, 34040.0, 34654.0, ...</td>\n",
       "      <td>[ALGAE EXTRACT, HYDROGENATED MINERAL OIL, PETR...</td>\n",
       "      <td>[FRAGRANCE, HUMECTANT, ORAL CARE, SKIN CONDITI...</td>\n",
       "      <td>[0.20002126990973731, 0.16001701592778989, 0.1...</td>\n",
       "    </tr>\n",
       "    <tr>\n",
       "      <th>1</th>\n",
       "      <td>Moisturizer</td>\n",
       "      <td>SK-II</td>\n",
       "      <td>Facial Treatment Essence</td>\n",
       "      <td>179</td>\n",
       "      <td>4.1</td>\n",
       "      <td>[Galactomyces Ferment Filtrate (Pitera),  Buty...</td>\n",
       "      <td>1</td>\n",
       "      <td>1</td>\n",
       "      <td>1</td>\n",
       "      <td>1</td>\n",
       "      <td>1</td>\n",
       "      <td>[84397, 74756, 58983, 92472, 37735, 35342, 38173]</td>\n",
       "      <td>[GALACTOMYCES FERMENT FILTRATE, BUTYLENE GLYCO...</td>\n",
       "      <td>[HUMECTANT, FRAGRANCE, HUMECTANT, SKIN CONDITI...</td>\n",
       "      <td>[0.25307332242756025, 0.2024586579420482, 0.16...</td>\n",
       "    </tr>\n",
       "    <tr>\n",
       "      <th>2</th>\n",
       "      <td>Moisturizer</td>\n",
       "      <td>DRUNK ELEPHANT</td>\n",
       "      <td>Protini™ Polypeptide Cream</td>\n",
       "      <td>68</td>\n",
       "      <td>4.4</td>\n",
       "      <td>[Water,  Dicaprylyl Carbonate,  Glycerin,  Cet...</td>\n",
       "      <td>1</td>\n",
       "      <td>1</td>\n",
       "      <td>1</td>\n",
       "      <td>1</td>\n",
       "      <td>0</td>\n",
       "      <td>[92472, 55832, 34040, 75132, 55337, 38182, 583...</td>\n",
       "      <td>[WATER, DICAPRYLYL CARBONATE, GLYCERIN, CETEAR...</td>\n",
       "      <td>[ANTIPLAQUE, SKIN CONDITIONING, SOLVENT, SKIN ...</td>\n",
       "      <td>[0.20000038312461918, 0.16000030649969535, 0.1...</td>\n",
       "    </tr>\n",
       "  </tbody>\n",
       "</table>\n",
       "</div>"
      ],
      "text/plain": [
       "         Label           Brand                        Name  Price  Rank  \\\n",
       "0  Moisturizer          LA MER             Crème de la Mer    175   4.1   \n",
       "1  Moisturizer           SK-II    Facial Treatment Essence    179   4.1   \n",
       "2  Moisturizer  DRUNK ELEPHANT  Protini™ Polypeptide Cream     68   4.4   \n",
       "\n",
       "                                         Ingredients  Combination  Dry  \\\n",
       "0  [Algae (Seaweed) Extract,  Mineral Oil,  Petro...            1    1   \n",
       "1  [Galactomyces Ferment Filtrate (Pitera),  Buty...            1    1   \n",
       "2  [Water,  Dicaprylyl Carbonate,  Glycerin,  Cet...            1    1   \n",
       "\n",
       "   Normal  Oily  Sensitive                                      Cosing Ref No  \\\n",
       "0       1     1          1  [54290.0, 95058.0, 79504.0, 34040.0, 34654.0, ...   \n",
       "1       1     1          1  [84397, 74756, 58983, 92472, 37735, 35342, 38173]   \n",
       "2       1     1          0  [92472, 55832, 34040, 75132, 55337, 38182, 583...   \n",
       "\n",
       "                                           INCI Name  \\\n",
       "0  [ALGAE EXTRACT, HYDROGENATED MINERAL OIL, PETR...   \n",
       "1  [GALACTOMYCES FERMENT FILTRATE, BUTYLENE GLYCO...   \n",
       "2  [WATER, DICAPRYLYL CARBONATE, GLYCERIN, CETEAR...   \n",
       "\n",
       "                                            Function  \\\n",
       "0  [FRAGRANCE, HUMECTANT, ORAL CARE, SKIN CONDITI...   \n",
       "1  [HUMECTANT, FRAGRANCE, HUMECTANT, SKIN CONDITI...   \n",
       "2  [ANTIPLAQUE, SKIN CONDITIONING, SOLVENT, SKIN ...   \n",
       "\n",
       "                                             Weights  \n",
       "0  [0.20002126990973731, 0.16001701592778989, 0.1...  \n",
       "1  [0.25307332242756025, 0.2024586579420482, 0.16...  \n",
       "2  [0.20000038312461918, 0.16000030649969535, 0.1...  "
      ]
     },
     "execution_count": 61,
     "metadata": {},
     "output_type": "execute_result"
    }
   ],
   "source": [
    "# Adds weights column to df\n",
    "df['Weights'] = \\\n",
    "    df['INCI Name'].apply(lambda x: generate_weights(len(x), p=0.2))\n",
    "\n",
    "df.head(3)"
   ]
  },
  {
   "cell_type": "markdown",
   "metadata": {},
   "source": [
    "Now, we can define a function that will create a weight matrix out of the dataframe as it is currently formatted. "
   ]
  },
  {
   "cell_type": "code",
   "execution_count": 66,
   "metadata": {},
   "outputs": [],
   "source": [
    "def create_weight_matrix(df):\n",
    "    '''\n",
    "    Creates a (n,m) array, with n rows of\n",
    "    products each containing weights for each of\n",
    "    the m unique ingredients.\n",
    "    '''\n",
    "    names = df['Name']\n",
    "\n",
    "    ingredients = df.explode(\"INCI Name\")['INCI Name'].unique()\n",
    "    ingredients.sort()\n",
    "\n",
    "    weight_matrix = \\\n",
    "        np.zeros((len(names), len(ingredients)))\n",
    "    \n",
    "    curr_row = 0\n",
    "\n",
    "    for i in df.index:\n",
    "        curr_ingredient_vector = np.zeros(len(ingredients))\n",
    "\n",
    "        indices = np.searchsorted(\n",
    "            ingredients, df.loc[i, 'INCI Name'])\n",
    "        \n",
    "        curr_ingredient_vector[indices] = \\\n",
    "            df.loc[i, 'Weights']\n",
    "        \n",
    "        weight_matrix[curr_row, :] = curr_ingredient_vector\n",
    "        curr_row += 1\n",
    "\n",
    "    return weight_matrix \n"
   ]
  },
  {
   "cell_type": "code",
   "execution_count": 74,
   "metadata": {},
   "outputs": [
    {
     "data": {
      "text/plain": [
       "(1248, 3248)"
      ]
     },
     "execution_count": 74,
     "metadata": {},
     "output_type": "execute_result"
    }
   ],
   "source": [
    "# 1248 products, 3248 unique ingredients\n",
    "weight_matrix = create_weight_matrix(df)\n",
    "weight_matrix.shape"
   ]
  },
  {
   "cell_type": "code",
   "execution_count": 76,
   "metadata": {},
   "outputs": [],
   "source": [
    "# Saved in data/weighted_distance_matrix.npy\n",
    "# Otherwise, takes ~1min to compute\n",
    "weighted_distance_matrix = distance_matrix(weight_matrix, weight_matrix)\n",
    "np.save('data/weighted_distance_matrix.npy', weighted_distance_matrix)"
   ]
  },
  {
   "cell_type": "code",
   "execution_count": 81,
   "metadata": {},
   "outputs": [
    {
     "data": {
      "text/plain": [
       "array([[0.        , 0.53000315, 0.442218  ],\n",
       "       [0.53000315, 0.        , 0.47889144],\n",
       "       [0.442218  , 0.47889144, 0.        ]])"
      ]
     },
     "execution_count": 81,
     "metadata": {},
     "output_type": "execute_result"
    }
   ],
   "source": [
    "weighted_distance_matrix[0:3, 0:3]"
   ]
  },
  {
   "cell_type": "markdown",
   "metadata": {},
   "source": [
    "As expected, diagonals will all be 0 (the closest distance for each product is itself). Diagonals will also be duplicates."
   ]
  },
  {
   "cell_type": "code",
   "execution_count": 82,
   "metadata": {},
   "outputs": [
    {
     "data": {
      "text/plain": [
       "[1, 33, 103, 734, 128]"
      ]
     },
     "execution_count": 82,
     "metadata": {},
     "output_type": "execute_result"
    }
   ],
   "source": [
    "# Creates a list of indices that would sort row 1 (aka, product 2) in\n",
    "# ascending order, i.e. which products are \"closest\"\n",
    "sorted_indices = sorted(range(len(weighted_distance_matrix[1])),\n",
    "                        key = lambda i: weighted_distance_matrix[1][i])\n",
    "\n",
    "sorted_indices[0:5] "
   ]
  },
  {
   "cell_type": "markdown",
   "metadata": {},
   "source": [
    "As expected, the most similar product is itself (ID 1)."
   ]
  },
  {
   "cell_type": "code",
   "execution_count": 83,
   "metadata": {},
   "outputs": [
    {
     "data": {
      "text/plain": [
       "array([0.        , 0.        , 0.07237208, 0.27207928])"
      ]
     },
     "execution_count": 83,
     "metadata": {},
     "output_type": "execute_result"
    }
   ],
   "source": [
    "# Shows the scores associated with the top 5 closest\n",
    "# products for product no. 2 (including itself)\n",
    "weighted_distance_matrix[1][sorted_indices[0:4]]"
   ]
  },
  {
   "cell_type": "markdown",
   "metadata": {},
   "source": [
    "The smallest score will always be 0 for its distance from itself. Here, though, we see another 0. We can look at which products are associated with these scores to see why that is."
   ]
  },
  {
   "cell_type": "code",
   "execution_count": 85,
   "metadata": {},
   "outputs": [
    {
     "name": "stdout",
     "output_type": "stream",
     "text": [
      "['Facial Treatment Essence' 'Facial Treatment Essence Mini'\n",
      " 'Facial Treatment Essence Karan Singh Limited Edition'\n",
      " 'Brightening Derm Revival Mask']\n"
     ]
    }
   ],
   "source": [
    "# Gives the product names for the top 5 closest\n",
    "# products.\n",
    "most_similar_products = df[['Brand', 'Name']].drop_duplicates().iloc[sorted_indices[0:4],:]['Name'].values\n",
    "print(most_similar_products)"
   ]
  },
  {
   "cell_type": "markdown",
   "metadata": {},
   "source": [
    "As we can see from the results, the product that also had a score of 0 was the mini version of the same product (that tracks).\n",
    "Now we want to add the top 5 similar products to the dataframe (besides itself)."
   ]
  },
  {
   "cell_type": "code",
   "execution_count": null,
   "metadata": {},
   "outputs": [],
   "source": []
  }
 ],
 "metadata": {
  "kernelspec": {
   "display_name": "base",
   "language": "python",
   "name": "python3"
  },
  "language_info": {
   "codemirror_mode": {
    "name": "ipython",
    "version": 3
   },
   "file_extension": ".py",
   "mimetype": "text/x-python",
   "name": "python",
   "nbconvert_exporter": "python",
   "pygments_lexer": "ipython3",
   "version": "3.11.5"
  }
 },
 "nbformat": 4,
 "nbformat_minor": 2
}
