{
  "cells": [
    {
      "cell_type": "code",
      "execution_count": 12,
      "metadata": {
        "colab": {
          "base_uri": "https://localhost:8080/"
        },
        "id": "IWOSibkMMSJ5",
        "outputId": "72b4b6f2-66c4-4f43-855f-b35285890e31"
      },
      "outputs": [],
      "source": [
        "import math\n",
        "import pandas as pd\n",
        "import nltk\n",
        "from nltk.corpus import stopwords\n",
        "from nltk.tokenize import word_tokenize\n",
        "import numpy as np\n",
        "from scipy.sparse import find\n",
        "from IPython.display import clear_output\n",
        "\n",
        "#nltk.download('punkt')\n",
        "#nltk.download('stopwords')"
      ]
    },
    {
      "cell_type": "markdown",
      "metadata": {},
      "source": [
        "# Cosine Similarity Scheme\n",
        "*add description here*"
      ]
    },
    {
      "cell_type": "code",
      "execution_count": 13,
      "metadata": {
        "id": "JJupghS8MnPz"
      },
      "outputs": [
        {
          "data": {
            "text/html": [
              "<div>\n",
              "<style scoped>\n",
              "    .dataframe tbody tr th:only-of-type {\n",
              "        vertical-align: middle;\n",
              "    }\n",
              "\n",
              "    .dataframe tbody tr th {\n",
              "        vertical-align: top;\n",
              "    }\n",
              "\n",
              "    .dataframe thead th {\n",
              "        text-align: right;\n",
              "    }\n",
              "</style>\n",
              "<table border=\"1\" class=\"dataframe\">\n",
              "  <thead>\n",
              "    <tr style=\"text-align: right;\">\n",
              "      <th></th>\n",
              "      <th>Label</th>\n",
              "      <th>Brand</th>\n",
              "      <th>Name</th>\n",
              "      <th>Price</th>\n",
              "      <th>Rank</th>\n",
              "      <th>Ingredients</th>\n",
              "      <th>Combination</th>\n",
              "      <th>Dry</th>\n",
              "      <th>Normal</th>\n",
              "      <th>Oily</th>\n",
              "      <th>Sensitive</th>\n",
              "    </tr>\n",
              "  </thead>\n",
              "  <tbody>\n",
              "    <tr>\n",
              "      <th>0</th>\n",
              "      <td>Moisturizer</td>\n",
              "      <td>LA MER</td>\n",
              "      <td>Crème de la Mer</td>\n",
              "      <td>175</td>\n",
              "      <td>4.1</td>\n",
              "      <td>Algae (Seaweed) Extract, Mineral Oil, Petrolat...</td>\n",
              "      <td>1</td>\n",
              "      <td>1</td>\n",
              "      <td>1</td>\n",
              "      <td>1</td>\n",
              "      <td>1</td>\n",
              "    </tr>\n",
              "    <tr>\n",
              "      <th>1</th>\n",
              "      <td>Moisturizer</td>\n",
              "      <td>SK-II</td>\n",
              "      <td>Facial Treatment Essence</td>\n",
              "      <td>179</td>\n",
              "      <td>4.1</td>\n",
              "      <td>Galactomyces Ferment Filtrate (Pitera), Butyle...</td>\n",
              "      <td>1</td>\n",
              "      <td>1</td>\n",
              "      <td>1</td>\n",
              "      <td>1</td>\n",
              "      <td>1</td>\n",
              "    </tr>\n",
              "    <tr>\n",
              "      <th>2</th>\n",
              "      <td>Moisturizer</td>\n",
              "      <td>DRUNK ELEPHANT</td>\n",
              "      <td>Protini™ Polypeptide Cream</td>\n",
              "      <td>68</td>\n",
              "      <td>4.4</td>\n",
              "      <td>Water, Dicaprylyl Carbonate, Glycerin, Ceteary...</td>\n",
              "      <td>1</td>\n",
              "      <td>1</td>\n",
              "      <td>1</td>\n",
              "      <td>1</td>\n",
              "      <td>0</td>\n",
              "    </tr>\n",
              "    <tr>\n",
              "      <th>3</th>\n",
              "      <td>Moisturizer</td>\n",
              "      <td>LA MER</td>\n",
              "      <td>The Moisturizing Soft Cream</td>\n",
              "      <td>175</td>\n",
              "      <td>3.8</td>\n",
              "      <td>Algae (Seaweed) Extract, Cyclopentasiloxane, P...</td>\n",
              "      <td>1</td>\n",
              "      <td>1</td>\n",
              "      <td>1</td>\n",
              "      <td>1</td>\n",
              "      <td>1</td>\n",
              "    </tr>\n",
              "    <tr>\n",
              "      <th>4</th>\n",
              "      <td>Moisturizer</td>\n",
              "      <td>IT COSMETICS</td>\n",
              "      <td>Your Skin But Better™ CC+™ Cream with SPF 50+</td>\n",
              "      <td>38</td>\n",
              "      <td>4.1</td>\n",
              "      <td>Water, Snail Secretion Filtrate, Phenyl Trimet...</td>\n",
              "      <td>1</td>\n",
              "      <td>1</td>\n",
              "      <td>1</td>\n",
              "      <td>1</td>\n",
              "      <td>1</td>\n",
              "    </tr>\n",
              "  </tbody>\n",
              "</table>\n",
              "</div>"
            ],
            "text/plain": [
              "         Label           Brand                                           Name  \\\n",
              "0  Moisturizer          LA MER                                Crème de la Mer   \n",
              "1  Moisturizer           SK-II                       Facial Treatment Essence   \n",
              "2  Moisturizer  DRUNK ELEPHANT                     Protini™ Polypeptide Cream   \n",
              "3  Moisturizer          LA MER                    The Moisturizing Soft Cream   \n",
              "4  Moisturizer    IT COSMETICS  Your Skin But Better™ CC+™ Cream with SPF 50+   \n",
              "\n",
              "   Price  Rank                                        Ingredients  \\\n",
              "0    175   4.1  Algae (Seaweed) Extract, Mineral Oil, Petrolat...   \n",
              "1    179   4.1  Galactomyces Ferment Filtrate (Pitera), Butyle...   \n",
              "2     68   4.4  Water, Dicaprylyl Carbonate, Glycerin, Ceteary...   \n",
              "3    175   3.8  Algae (Seaweed) Extract, Cyclopentasiloxane, P...   \n",
              "4     38   4.1  Water, Snail Secretion Filtrate, Phenyl Trimet...   \n",
              "\n",
              "   Combination  Dry  Normal  Oily  Sensitive  \n",
              "0            1    1       1     1          1  \n",
              "1            1    1       1     1          1  \n",
              "2            1    1       1     1          0  \n",
              "3            1    1       1     1          1  \n",
              "4            1    1       1     1          1  "
            ]
          },
          "execution_count": 13,
          "metadata": {},
          "output_type": "execute_result"
        }
      ],
      "source": [
        "# creating the dataframe with original skincare products dataset\n",
        "\n",
        "products = pd.read_csv('data/skincare_products.csv')\n",
        "products.head()"
      ]
    },
    {
      "cell_type": "code",
      "execution_count": 14,
      "metadata": {
        "id": "Mg8H5HkbQPPf"
      },
      "outputs": [],
      "source": [
        "def cosine_similarity(X, Y):\n",
        "\n",
        "  # establish stop words\n",
        "  X_list = word_tokenize(X)\n",
        "  Y_list = word_tokenize(Y)\n",
        "  sw = stopwords.words('english')\n",
        "  l1 =[];l2 =[]\n",
        "\n",
        "  # remove stop words from strings\n",
        "  X_set = {w for w in X_list if not w in sw}\n",
        "  Y_set = {w for w in Y_list if not w in sw}\n",
        "\n",
        "  # form set with words from both strings\n",
        "  rvector = X_set.union(Y_set)\n",
        "  for w in rvector:\n",
        "    if w in X_set: l1.append(1) # create a vector\n",
        "    else: l1.append(0)\n",
        "    if w in Y_set: l2.append(1)\n",
        "    else: l2.append(0)\n",
        "  c = 0\n",
        "\n",
        "  # cosine similarity formula\n",
        "  for i in range(len(rvector)):\n",
        "    c+= l1[i]*l2[i]\n",
        "    cosine = c / float((sum(l1)*sum(l2))**0.5)\n",
        "\n",
        "  return cosine"
      ]
    },
    {
      "cell_type": "code",
      "execution_count": 15,
      "metadata": {},
      "outputs": [
        {
          "data": {
            "text/html": [
              "<div>\n",
              "<style scoped>\n",
              "    .dataframe tbody tr th:only-of-type {\n",
              "        vertical-align: middle;\n",
              "    }\n",
              "\n",
              "    .dataframe tbody tr th {\n",
              "        vertical-align: top;\n",
              "    }\n",
              "\n",
              "    .dataframe thead th {\n",
              "        text-align: right;\n",
              "    }\n",
              "</style>\n",
              "<table border=\"1\" class=\"dataframe\">\n",
              "  <thead>\n",
              "    <tr style=\"text-align: right;\">\n",
              "      <th></th>\n",
              "      <th>Label</th>\n",
              "      <th>Brand</th>\n",
              "      <th>Name</th>\n",
              "      <th>Price</th>\n",
              "      <th>Rank</th>\n",
              "      <th>Ingredients</th>\n",
              "      <th>Combination</th>\n",
              "      <th>Dry</th>\n",
              "      <th>Normal</th>\n",
              "      <th>Oily</th>\n",
              "      <th>Sensitive</th>\n",
              "    </tr>\n",
              "  </thead>\n",
              "  <tbody>\n",
              "    <tr>\n",
              "      <th>0</th>\n",
              "      <td>Moisturizer</td>\n",
              "      <td>LA MER</td>\n",
              "      <td>Crème de la Mer</td>\n",
              "      <td>175</td>\n",
              "      <td>4.1</td>\n",
              "      <td>Algae (Seaweed) Extract, Mineral Oil, Petrolat...</td>\n",
              "      <td>1</td>\n",
              "      <td>1</td>\n",
              "      <td>1</td>\n",
              "      <td>1</td>\n",
              "      <td>1</td>\n",
              "    </tr>\n",
              "    <tr>\n",
              "      <th>1</th>\n",
              "      <td>Moisturizer</td>\n",
              "      <td>SK-II</td>\n",
              "      <td>Facial Treatment Essence</td>\n",
              "      <td>179</td>\n",
              "      <td>4.1</td>\n",
              "      <td>Galactomyces Ferment Filtrate (Pitera), Butyle...</td>\n",
              "      <td>1</td>\n",
              "      <td>1</td>\n",
              "      <td>1</td>\n",
              "      <td>1</td>\n",
              "      <td>1</td>\n",
              "    </tr>\n",
              "    <tr>\n",
              "      <th>2</th>\n",
              "      <td>Moisturizer</td>\n",
              "      <td>DRUNK ELEPHANT</td>\n",
              "      <td>Protini™ Polypeptide Cream</td>\n",
              "      <td>68</td>\n",
              "      <td>4.4</td>\n",
              "      <td>Water, Dicaprylyl Carbonate, Glycerin, Ceteary...</td>\n",
              "      <td>1</td>\n",
              "      <td>1</td>\n",
              "      <td>1</td>\n",
              "      <td>1</td>\n",
              "      <td>0</td>\n",
              "    </tr>\n",
              "    <tr>\n",
              "      <th>3</th>\n",
              "      <td>Moisturizer</td>\n",
              "      <td>LA MER</td>\n",
              "      <td>The Moisturizing Soft Cream</td>\n",
              "      <td>175</td>\n",
              "      <td>3.8</td>\n",
              "      <td>Algae (Seaweed) Extract, Cyclopentasiloxane, P...</td>\n",
              "      <td>1</td>\n",
              "      <td>1</td>\n",
              "      <td>1</td>\n",
              "      <td>1</td>\n",
              "      <td>1</td>\n",
              "    </tr>\n",
              "    <tr>\n",
              "      <th>4</th>\n",
              "      <td>Moisturizer</td>\n",
              "      <td>IT COSMETICS</td>\n",
              "      <td>Your Skin But Better™ CC+™ Cream with SPF 50+</td>\n",
              "      <td>38</td>\n",
              "      <td>4.1</td>\n",
              "      <td>Water, Snail Secretion Filtrate, Phenyl Trimet...</td>\n",
              "      <td>1</td>\n",
              "      <td>1</td>\n",
              "      <td>1</td>\n",
              "      <td>1</td>\n",
              "      <td>1</td>\n",
              "    </tr>\n",
              "  </tbody>\n",
              "</table>\n",
              "</div>"
            ],
            "text/plain": [
              "         Label           Brand                                           Name  \\\n",
              "0  Moisturizer          LA MER                                Crème de la Mer   \n",
              "1  Moisturizer           SK-II                       Facial Treatment Essence   \n",
              "2  Moisturizer  DRUNK ELEPHANT                     Protini™ Polypeptide Cream   \n",
              "3  Moisturizer          LA MER                    The Moisturizing Soft Cream   \n",
              "4  Moisturizer    IT COSMETICS  Your Skin But Better™ CC+™ Cream with SPF 50+   \n",
              "\n",
              "   Price  Rank                                        Ingredients  \\\n",
              "0    175   4.1  Algae (Seaweed) Extract, Mineral Oil, Petrolat...   \n",
              "1    179   4.1  Galactomyces Ferment Filtrate (Pitera), Butyle...   \n",
              "2     68   4.4  Water, Dicaprylyl Carbonate, Glycerin, Ceteary...   \n",
              "3    175   3.8  Algae (Seaweed) Extract, Cyclopentasiloxane, P...   \n",
              "4     38   4.1  Water, Snail Secretion Filtrate, Phenyl Trimet...   \n",
              "\n",
              "   Combination  Dry  Normal  Oily  Sensitive  \n",
              "0            1    1       1     1          1  \n",
              "1            1    1       1     1          1  \n",
              "2            1    1       1     1          0  \n",
              "3            1    1       1     1          1  \n",
              "4            1    1       1     1          1  "
            ]
          },
          "execution_count": 15,
          "metadata": {},
          "output_type": "execute_result"
        }
      ],
      "source": [
        "products.head()"
      ]
    },
    {
      "cell_type": "code",
      "execution_count": 16,
      "metadata": {
        "colab": {
          "base_uri": "https://localhost:8080/"
        },
        "id": "EVlsTFIUOL_8",
        "outputId": "bcec62f1-c24a-4913-bc0c-93d093aa415a"
      },
      "outputs": [
        {
          "name": "stdout",
          "output_type": "stream",
          "text": [
            "0.22555354977384037\n",
            "0.1487044791289829\n",
            "0.5283120976241462\n",
            "Out of these comparisons, products 1 and 4 are most similar with this method\n"
          ]
        }
      ],
      "source": [
        "# testing cosine_similarity function on products in database\n",
        "\n",
        "# comparing first and second products in the skincare products database\n",
        "test = cosine_similarity(products.iloc[0, 5], products.iloc[1, 5])\n",
        "print(test)\n",
        "\n",
        "# comparing first and third products in the skincare products database\n",
        "test2 = cosine_similarity(products.iloc[0, 5], products.iloc[2, 5])\n",
        "print(test2)\n",
        "\n",
        "# comparing first and fourth products in the skincare products database\n",
        "test2 = cosine_similarity(products.iloc[0, 5], products.iloc[3, 5])\n",
        "print(test2)\n",
        "\n",
        "print('Out of these comparisons, products 1 and 4 are most similar with this method')"
      ]
    },
    {
      "cell_type": "markdown",
      "metadata": {},
      "source": [
        "* Create a 1472*1472 matrix of all of the similarity scores, i.e., the entry in row 1 column 2 should contain the cosine similarity between product 1 and product 2 "
      ]
    },
    {
      "cell_type": "code",
      "execution_count": 17,
      "metadata": {},
      "outputs": [
        {
          "data": {
            "text/plain": [
              "'\\ncosine_similarity_matrix = np.zeros((products.shape[0], products.shape[0]))\\n\\nfor i in range(products.shape[0]):\\n    print(\"Generating scores for product\", i)\\n    clear_output(wait=True)\\n    for j in range(i+1, products.shape[0]):\\n        cosine_similarity_matrix[i,j] = cosine_similarity(products.iloc[i,5], products.iloc[j,5])\\n\\ncosine_similarity_matrix[0:5, 0:5]\\n'"
            ]
          },
          "execution_count": 17,
          "metadata": {},
          "output_type": "execute_result"
        }
      ],
      "source": [
        "'''\n",
        "cosine_similarity_matrix = np.zeros((products.shape[0], products.shape[0]))\n",
        "\n",
        "for i in range(products.shape[0]):\n",
        "    print(\"Generating scores for product\", i)\n",
        "    clear_output(wait=True)\n",
        "    for j in range(i+1, products.shape[0]):\n",
        "        cosine_similarity_matrix[i,j] = cosine_similarity(products.iloc[i,5], products.iloc[j,5])\n",
        "\n",
        "cosine_similarity_matrix[0:5, 0:5]\n",
        "'''"
      ]
    },
    {
      "cell_type": "code",
      "execution_count": 18,
      "metadata": {},
      "outputs": [],
      "source": [
        "# np.save(\"data/cosine_similarity_matrix.npy\",cosine_similarity_matrix)"
      ]
    },
    {
      "cell_type": "code",
      "execution_count": 19,
      "metadata": {},
      "outputs": [
        {
          "data": {
            "text/plain": [
              "array([[1.        , 0.22555355, 0.14870448],\n",
              "       [0.22555355, 1.        , 0.23268946],\n",
              "       [0.14870448, 0.23268946, 1.        ]])"
            ]
          },
          "execution_count": 19,
          "metadata": {},
          "output_type": "execute_result"
        }
      ],
      "source": [
        "cosine_similarity_matrix = np.load(\"data/cosine_similarity_matrix.npy\")\n",
        "\n",
        "for i in range(products.shape[0]):\n",
        "    for j in range(i+1, products.shape[0]):\n",
        "        cosine_similarity_matrix[j,i] = cosine_similarity_matrix[i,j]\n",
        "\n",
        "np.fill_diagonal(cosine_similarity_matrix, 1)\n",
        "\n",
        "cosine_similarity_matrix[0:3, 0:3]"
      ]
    },
    {
      "cell_type": "code",
      "execution_count": 26,
      "metadata": {},
      "outputs": [],
      "source": [
        "def get_5_most_similar_products(df, cos_sim_matrix: np.ndarray, index: int) -> np.ndarray:\n",
        "    '''\n",
        "    Gets the 5 most similar products (aside from itself) of the \n",
        "    product at the given position using the weighted distance matrix. \n",
        "    Returns a list.\n",
        "    weighted_similarity_matrix: the matrix of similarity scores\n",
        "    index: the positional index of the product\n",
        "    '''\n",
        "    sorted_indices = sorted(range(len(cos_sim_matrix[index])),\n",
        "                        key = lambda i: cos_sim_matrix[index][i],\n",
        "                        reverse = True)\n",
        "    \n",
        "    most_similar_products = df.iloc[sorted_indices[1:6],2].values\n",
        "    most_similar_scores = np.round(cos_sim_matrix[index, sorted_indices[1:6]], decimals=2)\n",
        "\n",
        "    return (most_similar_products, most_similar_scores)"
      ]
    },
    {
      "cell_type": "code",
      "execution_count": 27,
      "metadata": {},
      "outputs": [
        {
          "data": {
            "text/plain": [
              "(array(['Facial Treatment Essence Mini',\n",
              "        'Facial Treatment Essence Karan Singh Limited Edition',\n",
              "        'Facial Treatment Clear Lotion Toner',\n",
              "        'Brightening Derm Revival Mask', 'Facial Treatment Mask'],\n",
              "       dtype=object),\n",
              " array([1.  , 0.85, 0.68, 0.62, 0.59]))"
            ]
          },
          "execution_count": 27,
          "metadata": {},
          "output_type": "execute_result"
        }
      ],
      "source": [
        "get_5_most_similar_products(products, cosine_similarity_matrix, 1)"
      ]
    },
    {
      "cell_type": "code",
      "execution_count": 11,
      "metadata": {},
      "outputs": [
        {
          "ename": "IndexError",
          "evalue": "only integers, slices (`:`), ellipsis (`...`), numpy.newaxis (`None`) and integer or boolean arrays are valid indices",
          "output_type": "error",
          "traceback": [
            "\u001b[1;31m---------------------------------------------------------------------------\u001b[0m",
            "\u001b[1;31mIndexError\u001b[0m                                Traceback (most recent call last)",
            "Cell \u001b[1;32mIn[11], line 2\u001b[0m\n\u001b[0;32m      1\u001b[0m products[\u001b[38;5;124m'\u001b[39m\u001b[38;5;124mWeighted Similarity Products\u001b[39m\u001b[38;5;124m'\u001b[39m] \u001b[38;5;241m=\u001b[39m \\\n\u001b[1;32m----> 2\u001b[0m     products\u001b[38;5;241m.\u001b[39mapply(\u001b[38;5;28;01mlambda\u001b[39;00m x: get_5_most_similar_products(products, cosine_similarity_matrix, x)[\u001b[38;5;241m0\u001b[39m])\n\u001b[0;32m      4\u001b[0m products[\u001b[38;5;124m'\u001b[39m\u001b[38;5;124mWeighted Similarity Scores\u001b[39m\u001b[38;5;124m'\u001b[39m] \u001b[38;5;241m=\u001b[39m \\\n\u001b[0;32m      5\u001b[0m     products\u001b[38;5;241m.\u001b[39mapply(\u001b[38;5;28;01mlambda\u001b[39;00m x: get_5_most_similar_products(products, cosine_similarity_matrix, x)[\u001b[38;5;241m1\u001b[39m])\n\u001b[0;32m      7\u001b[0m products\u001b[38;5;241m.\u001b[39mhead(\u001b[38;5;241m3\u001b[39m)\n",
            "File \u001b[1;32mc:\\Users\\bella\\anaconda3\\Lib\\site-packages\\pandas\\core\\frame.py:9423\u001b[0m, in \u001b[0;36mDataFrame.apply\u001b[1;34m(self, func, axis, raw, result_type, args, **kwargs)\u001b[0m\n\u001b[0;32m   9412\u001b[0m \u001b[38;5;28;01mfrom\u001b[39;00m \u001b[38;5;21;01mpandas\u001b[39;00m\u001b[38;5;21;01m.\u001b[39;00m\u001b[38;5;21;01mcore\u001b[39;00m\u001b[38;5;21;01m.\u001b[39;00m\u001b[38;5;21;01mapply\u001b[39;00m \u001b[38;5;28;01mimport\u001b[39;00m frame_apply\n\u001b[0;32m   9414\u001b[0m op \u001b[38;5;241m=\u001b[39m frame_apply(\n\u001b[0;32m   9415\u001b[0m     \u001b[38;5;28mself\u001b[39m,\n\u001b[0;32m   9416\u001b[0m     func\u001b[38;5;241m=\u001b[39mfunc,\n\u001b[1;32m   (...)\u001b[0m\n\u001b[0;32m   9421\u001b[0m     kwargs\u001b[38;5;241m=\u001b[39mkwargs,\n\u001b[0;32m   9422\u001b[0m )\n\u001b[1;32m-> 9423\u001b[0m \u001b[38;5;28;01mreturn\u001b[39;00m op\u001b[38;5;241m.\u001b[39mapply()\u001b[38;5;241m.\u001b[39m__finalize__(\u001b[38;5;28mself\u001b[39m, method\u001b[38;5;241m=\u001b[39m\u001b[38;5;124m\"\u001b[39m\u001b[38;5;124mapply\u001b[39m\u001b[38;5;124m\"\u001b[39m)\n",
            "File \u001b[1;32mc:\\Users\\bella\\anaconda3\\Lib\\site-packages\\pandas\\core\\apply.py:678\u001b[0m, in \u001b[0;36mFrameApply.apply\u001b[1;34m(self)\u001b[0m\n\u001b[0;32m    675\u001b[0m \u001b[38;5;28;01melif\u001b[39;00m \u001b[38;5;28mself\u001b[39m\u001b[38;5;241m.\u001b[39mraw:\n\u001b[0;32m    676\u001b[0m     \u001b[38;5;28;01mreturn\u001b[39;00m \u001b[38;5;28mself\u001b[39m\u001b[38;5;241m.\u001b[39mapply_raw()\n\u001b[1;32m--> 678\u001b[0m \u001b[38;5;28;01mreturn\u001b[39;00m \u001b[38;5;28mself\u001b[39m\u001b[38;5;241m.\u001b[39mapply_standard()\n",
            "File \u001b[1;32mc:\\Users\\bella\\anaconda3\\Lib\\site-packages\\pandas\\core\\apply.py:798\u001b[0m, in \u001b[0;36mFrameApply.apply_standard\u001b[1;34m(self)\u001b[0m\n\u001b[0;32m    797\u001b[0m \u001b[38;5;28;01mdef\u001b[39;00m \u001b[38;5;21mapply_standard\u001b[39m(\u001b[38;5;28mself\u001b[39m):\n\u001b[1;32m--> 798\u001b[0m     results, res_index \u001b[38;5;241m=\u001b[39m \u001b[38;5;28mself\u001b[39m\u001b[38;5;241m.\u001b[39mapply_series_generator()\n\u001b[0;32m    800\u001b[0m     \u001b[38;5;66;03m# wrap results\u001b[39;00m\n\u001b[0;32m    801\u001b[0m     \u001b[38;5;28;01mreturn\u001b[39;00m \u001b[38;5;28mself\u001b[39m\u001b[38;5;241m.\u001b[39mwrap_results(results, res_index)\n",
            "File \u001b[1;32mc:\\Users\\bella\\anaconda3\\Lib\\site-packages\\pandas\\core\\apply.py:814\u001b[0m, in \u001b[0;36mFrameApply.apply_series_generator\u001b[1;34m(self)\u001b[0m\n\u001b[0;32m    811\u001b[0m \u001b[38;5;28;01mwith\u001b[39;00m option_context(\u001b[38;5;124m\"\u001b[39m\u001b[38;5;124mmode.chained_assignment\u001b[39m\u001b[38;5;124m\"\u001b[39m, \u001b[38;5;28;01mNone\u001b[39;00m):\n\u001b[0;32m    812\u001b[0m     \u001b[38;5;28;01mfor\u001b[39;00m i, v \u001b[38;5;129;01min\u001b[39;00m \u001b[38;5;28menumerate\u001b[39m(series_gen):\n\u001b[0;32m    813\u001b[0m         \u001b[38;5;66;03m# ignore SettingWithCopy here in case the user mutates\u001b[39;00m\n\u001b[1;32m--> 814\u001b[0m         results[i] \u001b[38;5;241m=\u001b[39m \u001b[38;5;28mself\u001b[39m\u001b[38;5;241m.\u001b[39mf(v)\n\u001b[0;32m    815\u001b[0m         \u001b[38;5;28;01mif\u001b[39;00m \u001b[38;5;28misinstance\u001b[39m(results[i], ABCSeries):\n\u001b[0;32m    816\u001b[0m             \u001b[38;5;66;03m# If we have a view on v, we need to make a copy because\u001b[39;00m\n\u001b[0;32m    817\u001b[0m             \u001b[38;5;66;03m#  series_generator will swap out the underlying data\u001b[39;00m\n\u001b[0;32m    818\u001b[0m             results[i] \u001b[38;5;241m=\u001b[39m results[i]\u001b[38;5;241m.\u001b[39mcopy(deep\u001b[38;5;241m=\u001b[39m\u001b[38;5;28;01mFalse\u001b[39;00m)\n",
            "Cell \u001b[1;32mIn[11], line 2\u001b[0m, in \u001b[0;36m<lambda>\u001b[1;34m(x)\u001b[0m\n\u001b[0;32m      1\u001b[0m products[\u001b[38;5;124m'\u001b[39m\u001b[38;5;124mWeighted Similarity Products\u001b[39m\u001b[38;5;124m'\u001b[39m] \u001b[38;5;241m=\u001b[39m \\\n\u001b[1;32m----> 2\u001b[0m     products\u001b[38;5;241m.\u001b[39mapply(\u001b[38;5;28;01mlambda\u001b[39;00m x: get_5_most_similar_products(products, cosine_similarity_matrix, x)[\u001b[38;5;241m0\u001b[39m])\n\u001b[0;32m      4\u001b[0m products[\u001b[38;5;124m'\u001b[39m\u001b[38;5;124mWeighted Similarity Scores\u001b[39m\u001b[38;5;124m'\u001b[39m] \u001b[38;5;241m=\u001b[39m \\\n\u001b[0;32m      5\u001b[0m     products\u001b[38;5;241m.\u001b[39mapply(\u001b[38;5;28;01mlambda\u001b[39;00m x: get_5_most_similar_products(products, cosine_similarity_matrix, x)[\u001b[38;5;241m1\u001b[39m])\n\u001b[0;32m      7\u001b[0m products\u001b[38;5;241m.\u001b[39mhead(\u001b[38;5;241m3\u001b[39m)\n",
            "Cell \u001b[1;32mIn[10], line 9\u001b[0m, in \u001b[0;36mget_5_most_similar_products\u001b[1;34m(df, cos_sim_matrix, index)\u001b[0m\n\u001b[0;32m      1\u001b[0m \u001b[38;5;28;01mdef\u001b[39;00m \u001b[38;5;21mget_5_most_similar_products\u001b[39m(df, cos_sim_matrix: np\u001b[38;5;241m.\u001b[39mndarray, index: \u001b[38;5;28mint\u001b[39m) \u001b[38;5;241m-\u001b[39m\u001b[38;5;241m>\u001b[39m np\u001b[38;5;241m.\u001b[39mndarray:\n\u001b[0;32m      2\u001b[0m \u001b[38;5;250m    \u001b[39m\u001b[38;5;124;03m'''\u001b[39;00m\n\u001b[0;32m      3\u001b[0m \u001b[38;5;124;03m    Gets the 5 most similar products (aside from itself) of the \u001b[39;00m\n\u001b[0;32m      4\u001b[0m \u001b[38;5;124;03m    product at the given position using the weighted distance matrix. \u001b[39;00m\n\u001b[1;32m   (...)\u001b[0m\n\u001b[0;32m      7\u001b[0m \u001b[38;5;124;03m    index: the positional index of the product\u001b[39;00m\n\u001b[0;32m      8\u001b[0m \u001b[38;5;124;03m    '''\u001b[39;00m\n\u001b[1;32m----> 9\u001b[0m     sorted_indices \u001b[38;5;241m=\u001b[39m \u001b[38;5;28msorted\u001b[39m(\u001b[38;5;28mrange\u001b[39m(\u001b[38;5;28mlen\u001b[39m(cos_sim_matrix[index])),\n\u001b[0;32m     10\u001b[0m                         key \u001b[38;5;241m=\u001b[39m \u001b[38;5;28;01mlambda\u001b[39;00m i: cos_sim_matrix[index][i],\n\u001b[0;32m     11\u001b[0m                         reverse \u001b[38;5;241m=\u001b[39m \u001b[38;5;28;01mTrue\u001b[39;00m)\n\u001b[0;32m     13\u001b[0m     most_similar_products \u001b[38;5;241m=\u001b[39m df\u001b[38;5;241m.\u001b[39miloc[sorted_indices[\u001b[38;5;241m1\u001b[39m:\u001b[38;5;241m6\u001b[39m],:][\u001b[38;5;124m'\u001b[39m\u001b[38;5;124mName\u001b[39m\u001b[38;5;124m'\u001b[39m]\u001b[38;5;241m.\u001b[39mvalues\n\u001b[0;32m     14\u001b[0m     most_similar_scores \u001b[38;5;241m=\u001b[39m np\u001b[38;5;241m.\u001b[39mround(cos_sim_matrix[index, sorted_indices[\u001b[38;5;241m1\u001b[39m:\u001b[38;5;241m6\u001b[39m]], decimals\u001b[38;5;241m=\u001b[39m\u001b[38;5;241m2\u001b[39m)\n",
            "\u001b[1;31mIndexError\u001b[0m: only integers, slices (`:`), ellipsis (`...`), numpy.newaxis (`None`) and integer or boolean arrays are valid indices"
          ]
        }
      ],
      "source": [
        "products['Weighted Similarity Products'] = \\\n",
        "    products.apply(lambda x: get_5_most_similar_products(products, cosine_similarity_matrix, x)[0])\n",
        "\n",
        "products['Weighted Similarity Scores'] = \\\n",
        "    products.apply(lambda x: get_5_most_similar_products(products, cosine_similarity_matrix, x)[1])\n",
        "    \n",
        "products.head(3)"
      ]
    }
  ],
  "metadata": {
    "colab": {
      "provenance": []
    },
    "kernelspec": {
      "display_name": "Python 3",
      "name": "python3"
    },
    "language_info": {
      "codemirror_mode": {
        "name": "ipython",
        "version": 3
      },
      "file_extension": ".py",
      "mimetype": "text/x-python",
      "name": "python",
      "nbconvert_exporter": "python",
      "pygments_lexer": "ipython3",
      "version": "3.11.5"
    }
  },
  "nbformat": 4,
  "nbformat_minor": 0
}
