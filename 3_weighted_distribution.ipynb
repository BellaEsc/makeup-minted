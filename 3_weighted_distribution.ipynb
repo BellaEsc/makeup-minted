{
 "cells": [
  {
   "cell_type": "code",
   "execution_count": 10,
   "metadata": {},
   "outputs": [],
   "source": [
    "import pandas as pd\n",
    "import numpy as np\n",
    "from IPython.display import display, clear_output, HTML"
   ]
  },
  {
   "cell_type": "markdown",
   "metadata": {},
   "source": [
    "# Similarity Scheme\n",
    "Each product's ingredients will be given a weight based on its position in the list. To generate the similarity score between two different products, each matched ingredient's weights will be multiplied together, and then all of those will be summed. Finally, this sum is divided by the maximum possible score (which is the weights from the shorter list squared and then summed).\n",
    "\n",
    "To get the weights, we will use the geometric distribution."
   ]
  },
  {
   "cell_type": "markdown",
   "metadata": {},
   "source": [
    "**Geometric distribution:**\n",
    "The probability that the first occurrence of success requires $i$ independent trials each with success probability $p$.\n",
    "$$\n",
    "p(1 - p) ^ {i - 1}\n",
    "$$"
   ]
  },
  {
   "cell_type": "markdown",
   "metadata": {},
   "source": [
    "![Geometric Distribution (from Wikipedia)](images/geometric_distribution.png)"
   ]
  },
  {
   "cell_type": "code",
   "execution_count": 11,
   "metadata": {},
   "outputs": [],
   "source": [
    "# uses a geometric distribution so each weight\n",
    "# decreases geometrically according to its position.\n",
    "def generate_weights(n, p):\n",
    "    weights = []\n",
    "    total_weight = 0\n",
    "    for i in range(1, n + 1):\n",
    "        weight = p * ((1 - p) ** (i - 1)) # geometric pdf\n",
    "        weights.append(weight)\n",
    "        total_weight += weight\n",
    "    normalized_weights = [weight / total_weight for weight in weights]\n",
    "    return normalized_weights"
   ]
  },
  {
   "cell_type": "code",
   "execution_count": 12,
   "metadata": {},
   "outputs": [
    {
     "data": {
      "text/plain": [
       "[0.3947887879984208,\n",
       " 0.2763521515988946,\n",
       " 0.19344650611922617,\n",
       " 0.1354125542834583]"
      ]
     },
     "execution_count": 12,
     "metadata": {},
     "output_type": "execute_result"
    }
   ],
   "source": [
    "generate_weights(4, 0.3)"
   ]
  },
  {
   "cell_type": "code",
   "execution_count": 13,
   "metadata": {},
   "outputs": [],
   "source": [
    "df = pd.read_csv(\"data/skincare_products_merged.csv\")"
   ]
  },
  {
   "cell_type": "code",
   "execution_count": 14,
   "metadata": {},
   "outputs": [],
   "source": [
    "def remove_na_ingredients(df):\n",
    "    # WARNING: modifies df in-place\n",
    "    \n",
    "    # Find the brand and names that contain na\n",
    "    brand_name_contains_na = \\\n",
    "        df[df['INCI name'].isna()][['Brand', 'Name']].drop_duplicates()\n",
    "    \n",
    "\n",
    "    # loop through each of these items, replace na ingredient positions\n",
    "    # with na, adjust the other numbers accordingly, and then drop nas\n",
    "    for i in range(len(brand_name_contains_na)):\n",
    "        curr_df = \\\n",
    "            df[(df['Brand'] == brand_name_contains_na.iloc[i]['Brand']) & \\\n",
    "               (df['Name'] == brand_name_contains_na.iloc[i]['Name'])]\n",
    "\n",
    "        # get the indices of the item and indices where ingredient is nan\n",
    "        curr_indices = curr_df.index \n",
    "        na_indices = curr_df[curr_df['INCI name'].isna()].index\n",
    "\n",
    "        message = HTML(\n",
    "            f\"<p>Product: {brand_name_contains_na.iloc[i]['Brand']} \"\n",
    "            f\"{brand_name_contains_na.iloc[i]['Name']}<br>\"\n",
    "            f\"NAN indices: {na_indices}</p>\"\n",
    "        )\n",
    "        display(message)\n",
    "            \n",
    "        for j in na_indices:\n",
    "\n",
    "            df.loc[j, 'Ingredient_Placement'] = np.nan\n",
    "\n",
    "            # get integer position of na index to check if it's at the end\n",
    "            integer_pos = curr_df.index.get_loc(j)\n",
    "\n",
    "            # if there are more ingredients after, shift their position\n",
    "            # up by 1\n",
    "            if len(curr_df) > (integer_pos + 1):\n",
    "                df.loc[j:curr_indices[-1], 'Ingredient_Placement'] = \\\n",
    "                    df.loc[j:curr_indices[-1], 'Ingredient_Placement'] - 1\n",
    "\n",
    "        clear_output(wait=True)\n",
    "\n",
    "    # now dropping nans will yield correct ingredient placement\n",
    "    return df.dropna(subset=['INCI name'])\n",
    "\n",
    "    "
   ]
  },
  {
   "cell_type": "code",
   "execution_count": 15,
   "metadata": {},
   "outputs": [
    {
     "data": {
      "text/html": [
       "<p>Product: DERMAFLASH DERMAPROTECT Daily Defense Broad Spectrum SPF 50+<br>nan indices: Index([45815], dtype='int64')</p>"
      ],
      "text/plain": [
       "<IPython.core.display.HTML object>"
      ]
     },
     "metadata": {},
     "output_type": "display_data"
    }
   ],
   "source": [
    "df2 = remove_na_ingredients(df)"
   ]
  },
  {
   "cell_type": "code",
   "execution_count": 16,
   "metadata": {},
   "outputs": [],
   "source": [
    "def add_weghts(df, p=0.3):\n",
    "    brand_and_names = df.loc[:,['Brand', 'Name']].drop_duplicates()\n",
    "    total_weights = []\n",
    "\n",
    "    for i in range(len(brand_and_names)):\n",
    "        curr_df = \\\n",
    "            df[(df['Brand'] == brand_and_names.iloc[i]['Brand']) & \\\n",
    "               (df['Name'] == brand_and_names.iloc[i]['Name'])]\n",
    "        \n",
    "        curr_weights = generate_weights(len(curr_df), p)\n",
    "\n",
    "        total_weights += curr_weights\n",
    "    \n",
    "    df.loc[:,'Weights'] = total_weights\n",
    "\n",
    "    return df\n",
    "        "
   ]
  },
  {
   "cell_type": "code",
   "execution_count": 17,
   "metadata": {},
   "outputs": [
    {
     "name": "stderr",
     "output_type": "stream",
     "text": [
      "C:\\Users\\bella\\AppData\\Local\\Temp\\ipykernel_12144\\238143520.py:14: SettingWithCopyWarning: \n",
      "A value is trying to be set on a copy of a slice from a DataFrame.\n",
      "Try using .loc[row_indexer,col_indexer] = value instead\n",
      "\n",
      "See the caveats in the documentation: https://pandas.pydata.org/pandas-docs/stable/user_guide/indexing.html#returning-a-view-versus-a-copy\n",
      "  df.loc[:,'Weights'] = total_weights\n"
     ]
    },
    {
     "data": {
      "text/html": [
       "<div>\n",
       "<style scoped>\n",
       "    .dataframe tbody tr th:only-of-type {\n",
       "        vertical-align: middle;\n",
       "    }\n",
       "\n",
       "    .dataframe tbody tr th {\n",
       "        vertical-align: top;\n",
       "    }\n",
       "\n",
       "    .dataframe thead th {\n",
       "        text-align: right;\n",
       "    }\n",
       "</style>\n",
       "<table border=\"1\" class=\"dataframe\">\n",
       "  <thead>\n",
       "    <tr style=\"text-align: right;\">\n",
       "      <th></th>\n",
       "      <th>Brand</th>\n",
       "      <th>Name</th>\n",
       "      <th>Ingredient_Placement</th>\n",
       "      <th>INCI name</th>\n",
       "      <th>Weights</th>\n",
       "    </tr>\n",
       "  </thead>\n",
       "  <tbody>\n",
       "    <tr>\n",
       "      <th>0</th>\n",
       "      <td>LA MER</td>\n",
       "      <td>Crème de la Mer</td>\n",
       "      <td>1.0</td>\n",
       "      <td>ALGAE EXTRACT</td>\n",
       "      <td>0.300</td>\n",
       "    </tr>\n",
       "    <tr>\n",
       "      <th>1</th>\n",
       "      <td>LA MER</td>\n",
       "      <td>Crème de la Mer</td>\n",
       "      <td>2.0</td>\n",
       "      <td>HYDROGENATED MINERAL OIL</td>\n",
       "      <td>0.210</td>\n",
       "    </tr>\n",
       "    <tr>\n",
       "      <th>2</th>\n",
       "      <td>LA MER</td>\n",
       "      <td>Crème de la Mer</td>\n",
       "      <td>3.0</td>\n",
       "      <td>PETROLATUM</td>\n",
       "      <td>0.147</td>\n",
       "    </tr>\n",
       "  </tbody>\n",
       "</table>\n",
       "</div>"
      ],
      "text/plain": [
       "    Brand             Name  Ingredient_Placement                 INCI name  \\\n",
       "0  LA MER  Crème de la Mer                   1.0             ALGAE EXTRACT   \n",
       "1  LA MER  Crème de la Mer                   2.0  HYDROGENATED MINERAL OIL   \n",
       "2  LA MER  Crème de la Mer                   3.0                PETROLATUM   \n",
       "\n",
       "   Weights  \n",
       "0    0.300  \n",
       "1    0.210  \n",
       "2    0.147  "
      ]
     },
     "execution_count": 17,
     "metadata": {},
     "output_type": "execute_result"
    }
   ],
   "source": [
    "df3 = add_weghts(df2)\n",
    "cols = ['Brand', 'Name', 'Ingredient_Placement', \n",
    "        'INCI name', 'Weights']\n",
    "df3[cols].head(3)"
   ]
  },
  {
   "cell_type": "code",
   "execution_count": null,
   "metadata": {},
   "outputs": [],
   "source": [
    "def create_weight_matrix(df):\n",
    "    brand_and_names = df.loc[:,['Brand', 'Name']].drop_duplicates()\n",
    "    ingredients = df['INCI name'].unique()\n",
    "    ingredients.sort()\n",
    "    weight_matrix = np.zeros((len(brand_and_names), len(ingredients)))\n",
    "\n",
    "    for i in range(len(brand_and_names)):\n",
    "        curr_df = \\\n",
    "            df[(df['Brand'] == brand_and_names.iloc[i]['Brand']) & \\\n",
    "               (df['Name'] == brand_and_names.iloc[i]['Name'])]\n",
    "        \n",
    "        curr_ingredient_vector = np.zeros(len(ingredients))\n",
    "        indices = np.searchsorted(ingredients, curr_df['INCI name'])\n",
    "\n",
    "        curr_ingredient_vector[indices] = curr_df['Weights']"
   ]
  },
  {
   "cell_type": "code",
   "execution_count": 38,
   "metadata": {},
   "outputs": [
    {
     "data": {
      "text/plain": [
       "array([0., 0., 0., ..., 0., 0., 0.])"
      ]
     },
     "execution_count": 38,
     "metadata": {},
     "output_type": "execute_result"
    }
   ],
   "source": [
    "ingredients = df3['INCI name'].unique()\n",
    "ingredients.sort()\n",
    "arr = np.zeros(len(ingredients))\n",
    "indices = np.searchsorted(ingredients, df3.loc[40:60, 'INCI name'].values)\n",
    "arr[indices] = df3.loc[40:60, 'Weights'].values\n",
    "arr"
   ]
  },
  {
   "cell_type": "code",
   "execution_count": 40,
   "metadata": {},
   "outputs": [
    {
     "data": {
      "text/plain": [
       "array([1.91004258e-07, 2.47062900e-02, 2.28846493e-01, 1.02900000e-01,\n",
       "       7.20300001e-02, 2.10000000e-01, 3.26923561e-01, 1.47000000e-01,\n",
       "       5.49460429e-02, 1.72944030e-02, 1.60192545e-01, 3.52947000e-02,\n",
       "       1.21060821e-02, 8.47425748e-03, 5.93198023e-03, 7.84943470e-02,\n",
       "       3.84622300e-02, 5.04210000e-02, 3.00000000e-01])"
      ]
     },
     "execution_count": 40,
     "metadata": {},
     "output_type": "execute_result"
    }
   ],
   "source": [
    "arr[arr != 0]"
   ]
  }
 ],
 "metadata": {
  "kernelspec": {
   "display_name": "base",
   "language": "python",
   "name": "python3"
  },
  "language_info": {
   "codemirror_mode": {
    "name": "ipython",
    "version": 3
   },
   "file_extension": ".py",
   "mimetype": "text/x-python",
   "name": "python",
   "nbconvert_exporter": "python",
   "pygments_lexer": "ipython3",
   "version": "3.11.5"
  }
 },
 "nbformat": 4,
 "nbformat_minor": 2
}
