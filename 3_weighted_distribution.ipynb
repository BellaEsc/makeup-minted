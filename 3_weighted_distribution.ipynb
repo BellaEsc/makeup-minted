{
 "cells": [
  {
   "cell_type": "code",
   "execution_count": 104,
   "metadata": {},
   "outputs": [],
   "source": [
    "import pandas as pd\n",
    "import numpy as np\n",
    "from IPython.display import display, clear_output, HTML\n",
    "from scipy.spatial import distance_matrix\n",
    "import matplotlib.pyplot as plt"
   ]
  },
  {
   "cell_type": "markdown",
   "metadata": {},
   "source": [
    "# Similarity Scheme\n",
    "Each product's ingredients will be given a weight based on its position in the list. To generate the similarity score between two different products, each matched ingredient's weights will be multiplied together, and then all of those will be summed. Finally, this sum is divided by the maximum possible score (which is the weights from the shorter list squared and then summed).\n",
    "\n",
    "To get the weights, we will use the geometric distribution."
   ]
  },
  {
   "cell_type": "markdown",
   "metadata": {},
   "source": [
    "![Geometric Distribution (from Wikipedia)](images/geometric_distribution.png)"
   ]
  },
  {
   "cell_type": "markdown",
   "metadata": {},
   "source": [
    "**Geometric distribution:**\n",
    "The probability that the first occurrence of success requires $i$ independent trials each with success probability $p$.\n",
    "$$\n",
    "p(1 - p) ^ {i - 1}\n",
    "$$"
   ]
  },
  {
   "cell_type": "code",
   "execution_count": 11,
   "metadata": {},
   "outputs": [],
   "source": [
    "# uses a geometric distribution so each weight\n",
    "# decreases geometrically according to its position.\n",
    "def generate_weights(n, p):\n",
    "    weights = []\n",
    "    total_weight = 0\n",
    "    for i in range(1, n + 1):\n",
    "        weight = p * ((1 - p) ** (i - 1)) # geometric pdf\n",
    "        weights.append(weight)\n",
    "        total_weight += weight\n",
    "    normalized_weights = [weight / total_weight for weight in weights]\n",
    "    return normalized_weights"
   ]
  },
  {
   "cell_type": "code",
   "execution_count": 13,
   "metadata": {},
   "outputs": [],
   "source": [
    "df = pd.read_csv(\"data/skincare_products_merged.csv\")"
   ]
  },
  {
   "cell_type": "code",
   "execution_count": 14,
   "metadata": {},
   "outputs": [],
   "source": [
    "def remove_na_ingredients(df):\n",
    "    # WARNING: modifies df in-place\n",
    "    \n",
    "    # Find the brand and names that contain na\n",
    "    brand_name_contains_na = \\\n",
    "        df[df['INCI name'].isna()][['Brand', 'Name']].drop_duplicates()\n",
    "    \n",
    "\n",
    "    # loop through each of these items, replace na ingredient positions\n",
    "    # with na, adjust the other numbers accordingly, and then drop nas\n",
    "    for i in range(len(brand_name_contains_na)):\n",
    "        curr_df = \\\n",
    "            df[(df['Brand'] == brand_name_contains_na.iloc[i]['Brand']) & \\\n",
    "               (df['Name'] == brand_name_contains_na.iloc[i]['Name'])]\n",
    "\n",
    "        # get the indices of the item and indices where ingredient is nan\n",
    "        curr_indices = curr_df.index \n",
    "        na_indices = curr_df[curr_df['INCI name'].isna()].index\n",
    "\n",
    "        message = HTML(\n",
    "            f\"<p>Product: {brand_name_contains_na.iloc[i]['Brand']} \"\n",
    "            f\"{brand_name_contains_na.iloc[i]['Name']}<br>\"\n",
    "            f\"NAN indices: {na_indices}</p>\"\n",
    "        )\n",
    "        display(message)\n",
    "            \n",
    "        for j in na_indices:\n",
    "\n",
    "            df.loc[j, 'Ingredient_Placement'] = np.nan\n",
    "\n",
    "            # get integer position of na index to check if it's at the end\n",
    "            integer_pos = curr_df.index.get_loc(j)\n",
    "\n",
    "            # if there are more ingredients after, shift their position\n",
    "            # up by 1\n",
    "            if len(curr_df) > (integer_pos + 1):\n",
    "                df.loc[j:curr_indices[-1], 'Ingredient_Placement'] = \\\n",
    "                    df.loc[j:curr_indices[-1], 'Ingredient_Placement'] - 1\n",
    "\n",
    "        clear_output(wait=True)\n",
    "\n",
    "    # now dropping nans will yield correct ingredient placement\n",
    "    return df.dropna(subset=['INCI name'])\n",
    "\n",
    "    "
   ]
  },
  {
   "cell_type": "code",
   "execution_count": 15,
   "metadata": {},
   "outputs": [
    {
     "data": {
      "text/html": [
       "<p>Product: DERMAFLASH DERMAPROTECT Daily Defense Broad Spectrum SPF 50+<br>nan indices: Index([45815], dtype='int64')</p>"
      ],
      "text/plain": [
       "<IPython.core.display.HTML object>"
      ]
     },
     "metadata": {},
     "output_type": "display_data"
    }
   ],
   "source": [
    "df2 = remove_na_ingredients(df)"
   ]
  },
  {
   "cell_type": "code",
   "execution_count": 16,
   "metadata": {},
   "outputs": [],
   "source": [
    "def add_weghts(df, p=0.3):\n",
    "    new_df = df.copy(deep=True)\n",
    "    brand_and_names = df[['Brand', 'Name']].drop_duplicates()\n",
    "    total_weights = []\n",
    "\n",
    "    for i in range(len(brand_and_names)):\n",
    "        curr_df = \\\n",
    "            df[(df['Brand'] == brand_and_names.iloc[i]['Brand']) & \\\n",
    "               (df['Name'] == brand_and_names.iloc[i]['Name'])]\n",
    "        \n",
    "        curr_weights = generate_weights(len(curr_df), p)\n",
    "\n",
    "        total_weights += curr_weights\n",
    "    \n",
    "    new_df.loc[:,'Weights'] = total_weights\n",
    "\n",
    "    return new_df\n",
    "        "
   ]
  },
  {
   "cell_type": "code",
   "execution_count": 17,
   "metadata": {},
   "outputs": [
    {
     "name": "stderr",
     "output_type": "stream",
     "text": [
      "C:\\Users\\bella\\AppData\\Local\\Temp\\ipykernel_12144\\238143520.py:14: SettingWithCopyWarning: \n",
      "A value is trying to be set on a copy of a slice from a DataFrame.\n",
      "Try using .loc[row_indexer,col_indexer] = value instead\n",
      "\n",
      "See the caveats in the documentation: https://pandas.pydata.org/pandas-docs/stable/user_guide/indexing.html#returning-a-view-versus-a-copy\n",
      "  df.loc[:,'Weights'] = total_weights\n"
     ]
    },
    {
     "data": {
      "text/html": [
       "<div>\n",
       "<style scoped>\n",
       "    .dataframe tbody tr th:only-of-type {\n",
       "        vertical-align: middle;\n",
       "    }\n",
       "\n",
       "    .dataframe tbody tr th {\n",
       "        vertical-align: top;\n",
       "    }\n",
       "\n",
       "    .dataframe thead th {\n",
       "        text-align: right;\n",
       "    }\n",
       "</style>\n",
       "<table border=\"1\" class=\"dataframe\">\n",
       "  <thead>\n",
       "    <tr style=\"text-align: right;\">\n",
       "      <th></th>\n",
       "      <th>Brand</th>\n",
       "      <th>Name</th>\n",
       "      <th>Ingredient_Placement</th>\n",
       "      <th>INCI name</th>\n",
       "      <th>Weights</th>\n",
       "    </tr>\n",
       "  </thead>\n",
       "  <tbody>\n",
       "    <tr>\n",
       "      <th>0</th>\n",
       "      <td>LA MER</td>\n",
       "      <td>Crème de la Mer</td>\n",
       "      <td>1.0</td>\n",
       "      <td>ALGAE EXTRACT</td>\n",
       "      <td>0.300</td>\n",
       "    </tr>\n",
       "    <tr>\n",
       "      <th>1</th>\n",
       "      <td>LA MER</td>\n",
       "      <td>Crème de la Mer</td>\n",
       "      <td>2.0</td>\n",
       "      <td>HYDROGENATED MINERAL OIL</td>\n",
       "      <td>0.210</td>\n",
       "    </tr>\n",
       "    <tr>\n",
       "      <th>2</th>\n",
       "      <td>LA MER</td>\n",
       "      <td>Crème de la Mer</td>\n",
       "      <td>3.0</td>\n",
       "      <td>PETROLATUM</td>\n",
       "      <td>0.147</td>\n",
       "    </tr>\n",
       "  </tbody>\n",
       "</table>\n",
       "</div>"
      ],
      "text/plain": [
       "    Brand             Name  Ingredient_Placement                 INCI name  \\\n",
       "0  LA MER  Crème de la Mer                   1.0             ALGAE EXTRACT   \n",
       "1  LA MER  Crème de la Mer                   2.0  HYDROGENATED MINERAL OIL   \n",
       "2  LA MER  Crème de la Mer                   3.0                PETROLATUM   \n",
       "\n",
       "   Weights  \n",
       "0    0.300  \n",
       "1    0.210  \n",
       "2    0.147  "
      ]
     },
     "execution_count": 17,
     "metadata": {},
     "output_type": "execute_result"
    }
   ],
   "source": [
    "df3 = add_weghts(df2)\n",
    "cols = ['Brand', 'Name', 'Ingredient_Placement', \n",
    "        'INCI name', 'Weights']\n",
    "df3[cols].head(3)"
   ]
  },
  {
   "cell_type": "code",
   "execution_count": 141,
   "metadata": {},
   "outputs": [],
   "source": [
    "df4 = df3[df3[\"Weights\"] != 1]"
   ]
  },
  {
   "cell_type": "code",
   "execution_count": 142,
   "metadata": {},
   "outputs": [],
   "source": [
    "def create_weight_matrix(df):\n",
    "    brand_and_names = df.loc[:,['Brand', 'Name']].drop_duplicates()\n",
    "\n",
    "    ingredients = df['INCI name'].unique()\n",
    "    ingredients.sort()\n",
    "\n",
    "    weight_matrix = \\\n",
    "        np.zeros((len(brand_and_names), len(ingredients)))\n",
    "\n",
    "    for i in range(len(brand_and_names)):\n",
    "        curr_df = \\\n",
    "            df[(df['Brand'] == brand_and_names.iloc[i]['Brand']) & \\\n",
    "               (df['Name'] == brand_and_names.iloc[i]['Name'])]\n",
    "        \n",
    "        curr_ingredient_vector = np.zeros(len(ingredients))\n",
    "\n",
    "        indices = np.searchsorted(\n",
    "            ingredients, curr_df.loc[:,'INCI name'].values)\n",
    "\n",
    "        curr_ingredient_vector[indices] = \\\n",
    "            curr_df.loc[:,'Weights'].values        \n",
    "\n",
    "        weight_matrix[i,:] = curr_ingredient_vector\n",
    "    \n",
    "    return weight_matrix"
   ]
  },
  {
   "cell_type": "code",
   "execution_count": 143,
   "metadata": {},
   "outputs": [],
   "source": [
    "weight_matrix = create_weight_matrix(df4)"
   ]
  },
  {
   "cell_type": "code",
   "execution_count": 144,
   "metadata": {},
   "outputs": [
    {
     "data": {
      "text/plain": [
       "(1248, 3248)"
      ]
     },
     "execution_count": 144,
     "metadata": {},
     "output_type": "execute_result"
    }
   ],
   "source": [
    "# 1248 products, 3248 ingredients\n",
    "weight_matrix.shape"
   ]
  },
  {
   "cell_type": "markdown",
   "metadata": {},
   "source": [
    "let's say I have 100 ingredients and I'm comparing 20 different products that have different amounts of these ingredients. If I wanted to emphasize ingredients that appear first in the list with decreasing importance, does it make sense to have the weights assigned based on position in the list for each product's vector?\n",
    "\n",
    "\"While ingredients listed first may be more common or fundamental in certain contexts, there could be exceptions where less common ingredients listed later are crucial determinants of product similarity.\""
   ]
  },
  {
   "cell_type": "code",
   "execution_count": 145,
   "metadata": {},
   "outputs": [],
   "source": [
    "weighted_distance_matrix = distance_matrix(weight_matrix, weight_matrix)"
   ]
  },
  {
   "cell_type": "code",
   "execution_count": 146,
   "metadata": {},
   "outputs": [
    {
     "data": {
      "text/plain": [
       "(1248,)"
      ]
     },
     "execution_count": 146,
     "metadata": {},
     "output_type": "execute_result"
    }
   ],
   "source": [
    "weighted_distance_matrix[1].shape\n"
   ]
  },
  {
   "cell_type": "code",
   "execution_count": 159,
   "metadata": {},
   "outputs": [],
   "source": [
    "sorted_indices = sorted(range(len(weighted_distance_matrix[1])),\n",
    "                        key = lambda i: weighted_distance_matrix[1][i], reverse=True)"
   ]
  },
  {
   "cell_type": "code",
   "execution_count": 160,
   "metadata": {},
   "outputs": [
    {
     "data": {
      "text/plain": [
       "[33, 1, 103, 720]"
      ]
     },
     "execution_count": 160,
     "metadata": {},
     "output_type": "execute_result"
    }
   ],
   "source": [
    "sorted_indices[-1:-5:-1]"
   ]
  },
  {
   "cell_type": "code",
   "execution_count": 163,
   "metadata": {},
   "outputs": [
    {
     "data": {
      "text/plain": [
       "array([0.        , 0.        , 0.04254434, 0.30658226])"
      ]
     },
     "execution_count": 163,
     "metadata": {},
     "output_type": "execute_result"
    }
   ],
   "source": [
    "weighted_distance_matrix[1][sorted_indices[-1:-5:-1]]"
   ]
  },
  {
   "cell_type": "code",
   "execution_count": 164,
   "metadata": {},
   "outputs": [
    {
     "data": {
      "text/plain": [
       "array(['Water Bank Moisture Cream', 'Facial Treatment Essence',\n",
       "       \"Charlotte's Magic Cream Mini\",\n",
       "       '24K Gold Pure Luxury Lift & Firm Hydra-Gel Eye Patches'],\n",
       "      dtype=object)"
      ]
     },
     "execution_count": 164,
     "metadata": {},
     "output_type": "execute_result"
    }
   ],
   "source": [
    "df3[['Brand', 'Name']].drop_duplicates().iloc[sorted_indices[-1:-5:-1],:]['Name'].values"
   ]
  },
  {
   "cell_type": "code",
   "execution_count": 154,
   "metadata": {},
   "outputs": [
    {
     "data": {
      "text/plain": [
       "0.0"
      ]
     },
     "execution_count": 154,
     "metadata": {},
     "output_type": "execute_result"
    }
   ],
   "source": [
    "weighted_distance_matrix[1][1]"
   ]
  },
  {
   "cell_type": "code",
   "execution_count": 140,
   "metadata": {},
   "outputs": [
    {
     "data": {
      "text/html": [
       "<div>\n",
       "<style scoped>\n",
       "    .dataframe tbody tr th:only-of-type {\n",
       "        vertical-align: middle;\n",
       "    }\n",
       "\n",
       "    .dataframe tbody tr th {\n",
       "        vertical-align: top;\n",
       "    }\n",
       "\n",
       "    .dataframe thead th {\n",
       "        text-align: right;\n",
       "    }\n",
       "</style>\n",
       "<table border=\"1\" class=\"dataframe\">\n",
       "  <thead>\n",
       "    <tr style=\"text-align: right;\">\n",
       "      <th></th>\n",
       "      <th>Label</th>\n",
       "      <th>Brand</th>\n",
       "      <th>Name</th>\n",
       "      <th>Price</th>\n",
       "      <th>Rank</th>\n",
       "      <th>Combination</th>\n",
       "      <th>Dry</th>\n",
       "      <th>Normal</th>\n",
       "      <th>Oily</th>\n",
       "      <th>Sensitive</th>\n",
       "      <th>Ingredient_Placement</th>\n",
       "      <th>Ingredient</th>\n",
       "      <th>INCI name</th>\n",
       "      <th>COSING Ref No</th>\n",
       "      <th>Ingredient Description</th>\n",
       "      <th>Ingredient Function</th>\n",
       "      <th>Weights</th>\n",
       "    </tr>\n",
       "  </thead>\n",
       "  <tbody>\n",
       "    <tr>\n",
       "      <th>453</th>\n",
       "      <td>Moisturizer</td>\n",
       "      <td>KIEHL'S SINCE 1851</td>\n",
       "      <td>Midnight Recovery Concentrate</td>\n",
       "      <td>47</td>\n",
       "      <td>4.4</td>\n",
       "      <td>1</td>\n",
       "      <td>1</td>\n",
       "      <td>1</td>\n",
       "      <td>1</td>\n",
       "      <td>1</td>\n",
       "      <td>1.0</td>\n",
       "      <td>Sunflower Seed Oil.</td>\n",
       "      <td>OZONIZED SUNFLOWER SEED OIL</td>\n",
       "      <td>58059.0</td>\n",
       "      <td>Helianthus annuus (sunflower) seed oil, produc...</td>\n",
       "      <td>SKIN CONDITIONING</td>\n",
       "      <td>1.0</td>\n",
       "    </tr>\n",
       "    <tr>\n",
       "      <th>3540</th>\n",
       "      <td>Moisturizer</td>\n",
       "      <td>JOSIE MARAN</td>\n",
       "      <td>Argan Daily Moisturizer SPF 47</td>\n",
       "      <td>32</td>\n",
       "      <td>3.9</td>\n",
       "      <td>1</td>\n",
       "      <td>1</td>\n",
       "      <td>1</td>\n",
       "      <td>1</td>\n",
       "      <td>1</td>\n",
       "      <td>1.0</td>\n",
       "      <td>**Natural.</td>\n",
       "      <td>HUMAN UMBILICAL BLOOD DERIVED NATURAL KILLER C...</td>\n",
       "      <td>95432.0</td>\n",
       "      <td>Human Umbilical Blood Derived Natural Killer ...</td>\n",
       "      <td>SKIN CONDITIONING, SKIN PROTECTING</td>\n",
       "      <td>1.0</td>\n",
       "    </tr>\n",
       "    <tr>\n",
       "      <th>6096</th>\n",
       "      <td>Moisturizer</td>\n",
       "      <td>FARSÁLI</td>\n",
       "      <td>Volcanic Elixir Polynesian Beauty Oil</td>\n",
       "      <td>39</td>\n",
       "      <td>4.5</td>\n",
       "      <td>0</td>\n",
       "      <td>0</td>\n",
       "      <td>0</td>\n",
       "      <td>0</td>\n",
       "      <td>0</td>\n",
       "      <td>1.0</td>\n",
       "      <td>Calophyllum Tacamahaca Seed oil.</td>\n",
       "      <td>CALOPHYLLUM TACAMAHACA SEED OIL</td>\n",
       "      <td>55204.0</td>\n",
       "      <td>Calophyllum Tacamahaca Seed Oil is the fixed o...</td>\n",
       "      <td>SKIN CONDITIONING, SKIN CONDITIONING - EMOLLIENT</td>\n",
       "      <td>1.0</td>\n",
       "    </tr>\n",
       "    <tr>\n",
       "      <th>19506</th>\n",
       "      <td>Treatment</td>\n",
       "      <td>CAUDALIE</td>\n",
       "      <td>Premier Cru Serum</td>\n",
       "      <td>150</td>\n",
       "      <td>4.1</td>\n",
       "      <td>1</td>\n",
       "      <td>1</td>\n",
       "      <td>1</td>\n",
       "      <td>1</td>\n",
       "      <td>1</td>\n",
       "      <td>1.0</td>\n",
       "      <td>Polyphenols</td>\n",
       "      <td>CAMELLIA SINENSIS POLYPHENOLS</td>\n",
       "      <td>98488.0</td>\n",
       "      <td>Camellia Sinensis Polyphenols is a fraction of...</td>\n",
       "      <td>ANTIOXIDANT</td>\n",
       "      <td>1.0</td>\n",
       "    </tr>\n",
       "    <tr>\n",
       "      <th>20382</th>\n",
       "      <td>Treatment</td>\n",
       "      <td>PEACE OUT</td>\n",
       "      <td>Pore Treatment Strips</td>\n",
       "      <td>19</td>\n",
       "      <td>4.2</td>\n",
       "      <td>1</td>\n",
       "      <td>1</td>\n",
       "      <td>1</td>\n",
       "      <td>1</td>\n",
       "      <td>1</td>\n",
       "      <td>1.0</td>\n",
       "      <td>oil</td>\n",
       "      <td>EGG OIL</td>\n",
       "      <td>92397.0</td>\n",
       "      <td>Egg Yolk Fatty Oil,Egg Yolk Oil,Ovum (EU),Ovum...</td>\n",
       "      <td>HAIR CONDITIONING, SKIN CONDITIONING</td>\n",
       "      <td>1.0</td>\n",
       "    </tr>\n",
       "    <tr>\n",
       "      <th>27596</th>\n",
       "      <td>Face Mask</td>\n",
       "      <td>GLAMGLOW</td>\n",
       "      <td>GLAMGLOW x MY LITTLE PONY® #GLITTERMASK GRAVIT...</td>\n",
       "      <td>59</td>\n",
       "      <td>3.9</td>\n",
       "      <td>1</td>\n",
       "      <td>1</td>\n",
       "      <td>1</td>\n",
       "      <td>1</td>\n",
       "      <td>0</td>\n",
       "      <td>1.0</td>\n",
       "      <td>Hyaluronic Acid</td>\n",
       "      <td>HYALURONIC ACID</td>\n",
       "      <td>34315.0</td>\n",
       "      <td>Hyaluronic acid</td>\n",
       "      <td>ANTISTATIC, HUMECTANT, MOISTURISING, SKIN COND...</td>\n",
       "      <td>1.0</td>\n",
       "    </tr>\n",
       "    <tr>\n",
       "      <th>28925</th>\n",
       "      <td>Face Mask</td>\n",
       "      <td>FOREO</td>\n",
       "      <td>Call It A Night Revitalizing &amp; Nourishing UFO™...</td>\n",
       "      <td>9</td>\n",
       "      <td>4.7</td>\n",
       "      <td>1</td>\n",
       "      <td>1</td>\n",
       "      <td>1</td>\n",
       "      <td>1</td>\n",
       "      <td>1</td>\n",
       "      <td>1.0</td>\n",
       "      <td>-Ginseng -Olive Oil</td>\n",
       "      <td>PSEUDOZYMA EPICOLA/SOYBEAN FLOUR/APRICOT KERNE...</td>\n",
       "      <td>93179.0</td>\n",
       "      <td>Pseudozyma Epicola/Soybean Flour/Apricot Kerne...</td>\n",
       "      <td>EMULSION STABILISING, HAIR CONDITIONING, HUMEC...</td>\n",
       "      <td>1.0</td>\n",
       "    </tr>\n",
       "    <tr>\n",
       "      <th>30721</th>\n",
       "      <td>Face Mask</td>\n",
       "      <td>FOREO</td>\n",
       "      <td>H2Overdose Mask</td>\n",
       "      <td>19</td>\n",
       "      <td>5.0</td>\n",
       "      <td>1</td>\n",
       "      <td>1</td>\n",
       "      <td>1</td>\n",
       "      <td>1</td>\n",
       "      <td>1</td>\n",
       "      <td>1.0</td>\n",
       "      <td>-Hyaluronic Acid -Ceramide</td>\n",
       "      <td>ACETOBACTER/BACILLUS/LACTOBACILLUS/SACCHAROMYC...</td>\n",
       "      <td>91507.0</td>\n",
       "      <td>This is a filtrate of the product obtained by ...</td>\n",
       "      <td>SKIN CONDITIONING</td>\n",
       "      <td>1.0</td>\n",
       "    </tr>\n",
       "    <tr>\n",
       "      <th>31059</th>\n",
       "      <td>Face Mask</td>\n",
       "      <td>OMOROVICZA</td>\n",
       "      <td>Ultramoor Mud Mask</td>\n",
       "      <td>125</td>\n",
       "      <td>4.5</td>\n",
       "      <td>1</td>\n",
       "      <td>1</td>\n",
       "      <td>1</td>\n",
       "      <td>1</td>\n",
       "      <td>0</td>\n",
       "      <td>1.0</td>\n",
       "      <td>Rosemary</td>\n",
       "      <td>BACILLUS/ROSEMARY LEAF/SOYBEAN FERMENT EXTRACT...</td>\n",
       "      <td>88007.0</td>\n",
       "      <td>Bacillus/Rosemary Leaf/Soybean Ferment Extract...</td>\n",
       "      <td>ANTIMICROBIAL, HUMECTANT, SKIN CONDITIONING, S...</td>\n",
       "      <td>1.0</td>\n",
       "    </tr>\n",
       "    <tr>\n",
       "      <th>40905</th>\n",
       "      <td>Eye cream</td>\n",
       "      <td>APIVITA</td>\n",
       "      <td>Express Beauty Mask With Ginkgo Biloba</td>\n",
       "      <td>30</td>\n",
       "      <td>4.0</td>\n",
       "      <td>0</td>\n",
       "      <td>0</td>\n",
       "      <td>0</td>\n",
       "      <td>0</td>\n",
       "      <td>0</td>\n",
       "      <td>1.0</td>\n",
       "      <td>** Camelia Sinensis</td>\n",
       "      <td>CARTHAMUS TINCTORIUS FLOWER/VITIS VINIFERA FRU...</td>\n",
       "      <td>89462.0</td>\n",
       "      <td>Carthamus Tinctorius Flower/Vitis Vinifera Fru...</td>\n",
       "      <td>ANTI-SEBUM, ANTIMICROBIAL, ANTIOXIDANT, SKIN C...</td>\n",
       "      <td>1.0</td>\n",
       "    </tr>\n",
       "  </tbody>\n",
       "</table>\n",
       "</div>"
      ],
      "text/plain": [
       "             Label               Brand  \\\n",
       "453    Moisturizer  KIEHL'S SINCE 1851   \n",
       "3540   Moisturizer         JOSIE MARAN   \n",
       "6096   Moisturizer             FARSÁLI   \n",
       "19506    Treatment            CAUDALIE   \n",
       "20382    Treatment           PEACE OUT   \n",
       "27596    Face Mask            GLAMGLOW   \n",
       "28925    Face Mask               FOREO   \n",
       "30721    Face Mask               FOREO   \n",
       "31059    Face Mask          OMOROVICZA   \n",
       "40905    Eye cream             APIVITA   \n",
       "\n",
       "                                                    Name  Price  Rank  \\\n",
       "453                        Midnight Recovery Concentrate     47   4.4   \n",
       "3540                      Argan Daily Moisturizer SPF 47     32   3.9   \n",
       "6096               Volcanic Elixir Polynesian Beauty Oil     39   4.5   \n",
       "19506                                  Premier Cru Serum    150   4.1   \n",
       "20382                              Pore Treatment Strips     19   4.2   \n",
       "27596  GLAMGLOW x MY LITTLE PONY® #GLITTERMASK GRAVIT...     59   3.9   \n",
       "28925  Call It A Night Revitalizing & Nourishing UFO™...      9   4.7   \n",
       "30721                                    H2Overdose Mask     19   5.0   \n",
       "31059                                 Ultramoor Mud Mask    125   4.5   \n",
       "40905             Express Beauty Mask With Ginkgo Biloba     30   4.0   \n",
       "\n",
       "       Combination  Dry  Normal  Oily  Sensitive  Ingredient_Placement  \\\n",
       "453              1    1       1     1          1                   1.0   \n",
       "3540             1    1       1     1          1                   1.0   \n",
       "6096             0    0       0     0          0                   1.0   \n",
       "19506            1    1       1     1          1                   1.0   \n",
       "20382            1    1       1     1          1                   1.0   \n",
       "27596            1    1       1     1          0                   1.0   \n",
       "28925            1    1       1     1          1                   1.0   \n",
       "30721            1    1       1     1          1                   1.0   \n",
       "31059            1    1       1     1          0                   1.0   \n",
       "40905            0    0       0     0          0                   1.0   \n",
       "\n",
       "                             Ingredient  \\\n",
       "453                 Sunflower Seed Oil.   \n",
       "3540                         **Natural.   \n",
       "6096   Calophyllum Tacamahaca Seed oil.   \n",
       "19506                       Polyphenols   \n",
       "20382                               oil   \n",
       "27596                   Hyaluronic Acid   \n",
       "28925               -Ginseng -Olive Oil   \n",
       "30721        -Hyaluronic Acid -Ceramide   \n",
       "31059                          Rosemary   \n",
       "40905               ** Camelia Sinensis   \n",
       "\n",
       "                                               INCI name  COSING Ref No  \\\n",
       "453                          OZONIZED SUNFLOWER SEED OIL        58059.0   \n",
       "3540   HUMAN UMBILICAL BLOOD DERIVED NATURAL KILLER C...        95432.0   \n",
       "6096                     CALOPHYLLUM TACAMAHACA SEED OIL        55204.0   \n",
       "19506                      CAMELLIA SINENSIS POLYPHENOLS        98488.0   \n",
       "20382                                            EGG OIL        92397.0   \n",
       "27596                                    HYALURONIC ACID        34315.0   \n",
       "28925  PSEUDOZYMA EPICOLA/SOYBEAN FLOUR/APRICOT KERNE...        93179.0   \n",
       "30721  ACETOBACTER/BACILLUS/LACTOBACILLUS/SACCHAROMYC...        91507.0   \n",
       "31059  BACILLUS/ROSEMARY LEAF/SOYBEAN FERMENT EXTRACT...        88007.0   \n",
       "40905  CARTHAMUS TINCTORIUS FLOWER/VITIS VINIFERA FRU...        89462.0   \n",
       "\n",
       "                                  Ingredient Description  \\\n",
       "453    Helianthus annuus (sunflower) seed oil, produc...   \n",
       "3540    Human Umbilical Blood Derived Natural Killer ...   \n",
       "6096   Calophyllum Tacamahaca Seed Oil is the fixed o...   \n",
       "19506  Camellia Sinensis Polyphenols is a fraction of...   \n",
       "20382  Egg Yolk Fatty Oil,Egg Yolk Oil,Ovum (EU),Ovum...   \n",
       "27596                                    Hyaluronic acid   \n",
       "28925  Pseudozyma Epicola/Soybean Flour/Apricot Kerne...   \n",
       "30721  This is a filtrate of the product obtained by ...   \n",
       "31059  Bacillus/Rosemary Leaf/Soybean Ferment Extract...   \n",
       "40905  Carthamus Tinctorius Flower/Vitis Vinifera Fru...   \n",
       "\n",
       "                                     Ingredient Function  Weights  \n",
       "453                                    SKIN CONDITIONING      1.0  \n",
       "3540                  SKIN CONDITIONING, SKIN PROTECTING      1.0  \n",
       "6096    SKIN CONDITIONING, SKIN CONDITIONING - EMOLLIENT      1.0  \n",
       "19506                                        ANTIOXIDANT      1.0  \n",
       "20382               HAIR CONDITIONING, SKIN CONDITIONING      1.0  \n",
       "27596  ANTISTATIC, HUMECTANT, MOISTURISING, SKIN COND...      1.0  \n",
       "28925  EMULSION STABILISING, HAIR CONDITIONING, HUMEC...      1.0  \n",
       "30721                                  SKIN CONDITIONING      1.0  \n",
       "31059  ANTIMICROBIAL, HUMECTANT, SKIN CONDITIONING, S...      1.0  \n",
       "40905  ANTI-SEBUM, ANTIMICROBIAL, ANTIOXIDANT, SKIN C...      1.0  "
      ]
     },
     "execution_count": 140,
     "metadata": {},
     "output_type": "execute_result"
    }
   ],
   "source": [
    "df3[df3['Name'].isin()]"
   ]
  }
 ],
 "metadata": {
  "kernelspec": {
   "display_name": "base",
   "language": "python",
   "name": "python3"
  },
  "language_info": {
   "codemirror_mode": {
    "name": "ipython",
    "version": 3
   },
   "file_extension": ".py",
   "mimetype": "text/x-python",
   "name": "python",
   "nbconvert_exporter": "python",
   "pygments_lexer": "ipython3",
   "version": "3.11.5"
  }
 },
 "nbformat": 4,
 "nbformat_minor": 2
}
