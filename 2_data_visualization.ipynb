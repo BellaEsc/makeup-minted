{
 "cells": [
  {
   "cell_type": "markdown",
   "metadata": {},
   "source": [
    "# Data visualization\n",
    "* Use `skincare_products.csv` (not the processed version) to see the breakdown of:\n",
    "    * types of products (`Label` column)\n",
    "    * brands\n",
    "    * distribution of rank\n",
    "* Try using matplotlib, or whatever library seems best (plotly, seaborn, ggplot, altair, etc.)\n",
    "* More visualizations such as ingredient popularity will be helpful once pre-processing is done!"
   ]
  },
  {
   "cell_type": "code",
   "execution_count": null,
   "metadata": {},
   "outputs": [],
   "source": [
    "import pandas as pd\n",
    "#import matplotlib as plt\n",
    "#import ..."
   ]
  }
 ],
 "metadata": {
  "kernelspec": {
   "display_name": "base",
   "language": "python",
   "name": "python3"
  },
  "language_info": {
   "name": "python",
   "version": "3.11.5"
  }
 },
 "nbformat": 4,
 "nbformat_minor": 2
}
