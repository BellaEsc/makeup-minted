{
 "cells": [
  {
   "cell_type": "code",
   "execution_count": 1,
   "id": "29cb8745",
   "metadata": {},
   "outputs": [],
   "source": [
    "import pandas as pd\n",
    "from sklearn.feature_extraction.text import TfidfVectorizer\n",
    "import re\n",
    "from sklearn.metrics.pairwise import cosine_similarity\n",
    "from scipy.sparse import find\n",
    "import numpy  as np\n",
    "from IPython.display import clear_output"
   ]
  },
  {
   "cell_type": "markdown",
   "id": "a35d5b91",
   "metadata": {},
   "source": [
    "# TF-IDF Similarity\n",
    "*add description here*"
   ]
  },
  {
   "cell_type": "code",
   "execution_count": 2,
   "id": "609ad263",
   "metadata": {},
   "outputs": [
    {
     "data": {
      "text/html": [
       "<div>\n",
       "<style scoped>\n",
       "    .dataframe tbody tr th:only-of-type {\n",
       "        vertical-align: middle;\n",
       "    }\n",
       "\n",
       "    .dataframe tbody tr th {\n",
       "        vertical-align: top;\n",
       "    }\n",
       "\n",
       "    .dataframe thead th {\n",
       "        text-align: right;\n",
       "    }\n",
       "</style>\n",
       "<table border=\"1\" class=\"dataframe\">\n",
       "  <thead>\n",
       "    <tr style=\"text-align: right;\">\n",
       "      <th></th>\n",
       "      <th>Label</th>\n",
       "      <th>Brand</th>\n",
       "      <th>Name</th>\n",
       "      <th>Price</th>\n",
       "      <th>Rank</th>\n",
       "      <th>Ingredients</th>\n",
       "      <th>Combination</th>\n",
       "      <th>Dry</th>\n",
       "      <th>Normal</th>\n",
       "      <th>Oily</th>\n",
       "      <th>Sensitive</th>\n",
       "    </tr>\n",
       "  </thead>\n",
       "  <tbody>\n",
       "    <tr>\n",
       "      <th>0</th>\n",
       "      <td>Moisturizer</td>\n",
       "      <td>LA MER</td>\n",
       "      <td>Crème de la Mer</td>\n",
       "      <td>175</td>\n",
       "      <td>4.1</td>\n",
       "      <td>Algae (Seaweed) Extract, Mineral Oil, Petrolat...</td>\n",
       "      <td>1</td>\n",
       "      <td>1</td>\n",
       "      <td>1</td>\n",
       "      <td>1</td>\n",
       "      <td>1</td>\n",
       "    </tr>\n",
       "    <tr>\n",
       "      <th>1</th>\n",
       "      <td>Moisturizer</td>\n",
       "      <td>SK-II</td>\n",
       "      <td>Facial Treatment Essence</td>\n",
       "      <td>179</td>\n",
       "      <td>4.1</td>\n",
       "      <td>Galactomyces Ferment Filtrate (Pitera), Butyle...</td>\n",
       "      <td>1</td>\n",
       "      <td>1</td>\n",
       "      <td>1</td>\n",
       "      <td>1</td>\n",
       "      <td>1</td>\n",
       "    </tr>\n",
       "    <tr>\n",
       "      <th>2</th>\n",
       "      <td>Moisturizer</td>\n",
       "      <td>DRUNK ELEPHANT</td>\n",
       "      <td>Protini™ Polypeptide Cream</td>\n",
       "      <td>68</td>\n",
       "      <td>4.4</td>\n",
       "      <td>Water, Dicaprylyl Carbonate, Glycerin, Ceteary...</td>\n",
       "      <td>1</td>\n",
       "      <td>1</td>\n",
       "      <td>1</td>\n",
       "      <td>1</td>\n",
       "      <td>0</td>\n",
       "    </tr>\n",
       "  </tbody>\n",
       "</table>\n",
       "</div>"
      ],
      "text/plain": [
       "         Label           Brand                        Name  Price  Rank  \\\n",
       "0  Moisturizer          LA MER             Crème de la Mer    175   4.1   \n",
       "1  Moisturizer           SK-II    Facial Treatment Essence    179   4.1   \n",
       "2  Moisturizer  DRUNK ELEPHANT  Protini™ Polypeptide Cream     68   4.4   \n",
       "\n",
       "                                         Ingredients  Combination  Dry  \\\n",
       "0  Algae (Seaweed) Extract, Mineral Oil, Petrolat...            1    1   \n",
       "1  Galactomyces Ferment Filtrate (Pitera), Butyle...            1    1   \n",
       "2  Water, Dicaprylyl Carbonate, Glycerin, Ceteary...            1    1   \n",
       "\n",
       "   Normal  Oily  Sensitive  \n",
       "0       1     1          1  \n",
       "1       1     1          1  \n",
       "2       1     1          0  "
      ]
     },
     "execution_count": 2,
     "metadata": {},
     "output_type": "execute_result"
    }
   ],
   "source": [
    "df = pd.read_csv(\"data/skincare_products.csv\")\n",
    "df.head(3)"
   ]
  },
  {
   "cell_type": "code",
   "execution_count": 8,
   "id": "532a3307",
   "metadata": {},
   "outputs": [
    {
     "name": "stdout",
     "output_type": "stream",
     "text": [
      "TF-IDF Matrix Shape: (1472, 5185)\n",
      "Feature names (first 10): ['01' '02' '05' '067178' '074905' '10' '100' '1000' '101' '107']\n"
     ]
    }
   ],
   "source": [
    "# Preprocess the ingredients\n",
    "def preprocess_ingredients(text):\n",
    "    # Convert to lowercase\n",
    "    text = text.lower()\n",
    "    # Remove punctuation and special characters (keeping spaces)\n",
    "    text = re.sub(r'[^\\w\\s]', '', text)\n",
    "    return text\n",
    "\n",
    "# Apply the preprocessing function to the 'Ingredient Description' column\n",
    "df['Ingredients'] = df['Ingredients'].apply(preprocess_ingredients)\n",
    "\n",
    "# Create a TF-IDF Vectorizer\n",
    "vectorizer = TfidfVectorizer()\n",
    "\n",
    "# Fit and transform the 'Ingredient Description' column\n",
    "tfidf_matrix = vectorizer.fit_transform(df['Ingredients'])\n",
    "\n",
    "# Inspect the shape of the resulting TF-IDF matrix\n",
    "print(\"TF-IDF Matrix Shape:\", tfidf_matrix.shape)\n",
    "\n",
    "\n",
    "# Optionally, you can inspect the feature names (terms)\n",
    "print(\"Feature names (first 10):\", vectorizer.get_feature_names_out()[:10])\n"
   ]
  },
  {
   "cell_type": "code",
   "execution_count": 9,
   "id": "7e95f041",
   "metadata": {},
   "outputs": [
    {
     "name": "stdout",
     "output_type": "stream",
     "text": [
      "\n",
      "Top 10 terms with the highest TF-IDF scores:\n",
      "Document 39: Term 'name', Score: 1.0\n",
      "Document 93: Term 'natural', Score: 1.0\n",
      "Document 263: Term 'name', Score: 1.0\n",
      "Document 310: Term 'hadasei3', Score: 1.0\n",
      "Document 496: Term 'name', Score: 1.0\n",
      "Document 656: Term 'name', Score: 1.0\n",
      "Document 846: Term 'hadasei3', Score: 1.0\n",
      "Document 90: Term 'essential', Score: 0.9330613898050689\n",
      "Document 121: Term 'essential', Score: 0.9330613898050689\n",
      "Document 858: Term 'essential', Score: 0.9330613898050689\n"
     ]
    }
   ],
   "source": [
    "# Get the feature names (terms)\n",
    "feature_names = vectorizer.get_feature_names_out()\n",
    "\n",
    "# Find non-zero entries and their indices and values\n",
    "row_indices, term_indices, scores = find(tfidf_matrix)\n",
    "\n",
    "# Combine the rows, term indices, and scores into a list of tuples\n",
    "entries = list(zip(row_indices, term_indices, scores))\n",
    "\n",
    "# Sort entries by score in descending order\n",
    "entries_sorted = sorted(entries, key=lambda x: x[2], reverse=True)\n",
    "\n",
    "# Print the top 10 terms with the highest TF-IDF scores\n",
    "print(\"\\nTop 10 terms with the highest TF-IDF scores:\")\n",
    "for i in range(min(10, len(entries_sorted))):\n",
    "    row_index, term_index, score = entries_sorted[i]\n",
    "    term = feature_names[term_index]\n",
    "    print(f\"Document {row_index}: Term '{term}', Score: {score}\")\n"
   ]
  },
  {
   "cell_type": "code",
   "execution_count": 10,
   "id": "08974031",
   "metadata": {},
   "outputs": [
    {
     "name": "stdout",
     "output_type": "stream",
     "text": [
      "Top 10 terms with the highest mean TF-IDF scores across the entire dataset:\n",
      "         term  mean_tfidf\n",
      "1878  extract    0.125674\n",
      "3370      oil    0.070623\n",
      "4489   sodium    0.063218\n",
      "207      acid    0.053459\n",
      "2201   glycol    0.052736\n",
      "4376     seed    0.039070\n",
      "2761     leaf    0.037237\n",
      "2066    fruit    0.036676\n",
      "1149       ci    0.035016\n",
      "333   alcohol    0.034404\n"
     ]
    }
   ],
   "source": [
    "# Compute the mean TF-IDF score for each term across the entire dataset\n",
    "mean_tfidf_scores = tfidf_matrix.mean(axis=0).A1\n",
    "\n",
    "# Get the feature names (terms)\n",
    "terms = vectorizer.get_feature_names_out()\n",
    "\n",
    "# Create a DataFrame to map terms to their mean TF-IDF scores\n",
    "mean_tfidf_df = pd.DataFrame({'term': terms, 'mean_tfidf': mean_tfidf_scores})\n",
    "\n",
    "# Sort the DataFrame by mean TF-IDF scores in descending order\n",
    "mean_tfidf_df = mean_tfidf_df.sort_values(by='mean_tfidf', ascending=False)\n",
    "\n",
    "# Display the top 10 terms with the highest mean TF-IDF scores\n",
    "top_10_terms = mean_tfidf_df.head(10)\n",
    "print(\"Top 10 terms with the highest mean TF-IDF scores across the entire dataset:\")\n",
    "print(top_10_terms)\n"
   ]
  },
  {
   "cell_type": "code",
   "execution_count": 11,
   "id": "dd741449",
   "metadata": {},
   "outputs": [
    {
     "name": "stdout",
     "output_type": "stream",
     "text": [
      "Similarity Score between Product 1 and Product 2: 0.6071428571428571\n"
     ]
    }
   ],
   "source": [
    "# Function to calculate similarity score between two products based on their ingredients\n",
    "def calculate_similarity(product1_ingredients, product2_ingredients):\n",
    "    # Preprocess ingredient descriptions\n",
    "    product1_ingredients = preprocess_ingredients(product1_ingredients)\n",
    "    product2_ingredients = preprocess_ingredients(product2_ingredients)\n",
    "    \n",
    "    # Create a TF-IDF Vectorizer\n",
    "    vectorizer = TfidfVectorizer()\n",
    "\n",
    "    # Fit and transform the ingredient descriptions of the two products\n",
    "    tfidf_matrix_product1 = vectorizer.fit_transform([product1_ingredients])\n",
    "    tfidf_matrix_product2 = vectorizer.transform([product2_ingredients])\n",
    "\n",
    "    # Compute cosine similarity between the TF-IDF vectors of the two products\n",
    "    similarity_score = cosine_similarity(tfidf_matrix_product1, tfidf_matrix_product2)\n",
    "\n",
    "    return similarity_score[0][0]\n",
    "\n",
    "# Example usage:\n",
    "product1_ingredients = df.loc[1, 'Ingredients']\n",
    "product2_ingredients = df.loc[2, 'Ingredients']\n",
    "similarity_score = calculate_similarity(product1_ingredients, product2_ingredients)\n",
    "print(\"Similarity Score between Product 1 and Product 2:\", similarity_score)\n"
   ]
  },
  {
   "cell_type": "code",
   "execution_count": 13,
   "id": "6f0a0989",
   "metadata": {},
   "outputs": [
    {
     "ename": "KeyboardInterrupt",
     "evalue": "",
     "output_type": "error",
     "traceback": [
      "\u001b[1;31m---------------------------------------------------------------------------\u001b[0m",
      "\u001b[1;31mKeyboardInterrupt\u001b[0m                         Traceback (most recent call last)",
      "Cell \u001b[1;32mIn[13], line 7\u001b[0m\n\u001b[0;32m      5\u001b[0m     clear_output(wait\u001b[38;5;241m=\u001b[39m\u001b[38;5;28;01mTrue\u001b[39;00m)\n\u001b[0;32m      6\u001b[0m     \u001b[38;5;28;01mfor\u001b[39;00m j \u001b[38;5;129;01min\u001b[39;00m \u001b[38;5;28mrange\u001b[39m(i\u001b[38;5;241m+\u001b[39m\u001b[38;5;241m1\u001b[39m, df\u001b[38;5;241m.\u001b[39mshape[\u001b[38;5;241m0\u001b[39m]):\n\u001b[1;32m----> 7\u001b[0m         tfidf_similarity_matrix[i,j] \u001b[38;5;241m=\u001b[39m calculate_similarity(df\u001b[38;5;241m.\u001b[39miloc[i,\u001b[38;5;241m5\u001b[39m], df\u001b[38;5;241m.\u001b[39miloc[j,\u001b[38;5;241m5\u001b[39m])\n\u001b[0;32m      9\u001b[0m tfidf_similarity_matrix[\u001b[38;5;241m0\u001b[39m:\u001b[38;5;241m5\u001b[39m, \u001b[38;5;241m0\u001b[39m:\u001b[38;5;241m5\u001b[39m]\n",
      "Cell \u001b[1;32mIn[11], line 11\u001b[0m, in \u001b[0;36mcalculate_similarity\u001b[1;34m(product1_ingredients, product2_ingredients)\u001b[0m\n\u001b[0;32m      8\u001b[0m vectorizer \u001b[38;5;241m=\u001b[39m TfidfVectorizer()\n\u001b[0;32m     10\u001b[0m \u001b[38;5;66;03m# Fit and transform the ingredient descriptions of the two products\u001b[39;00m\n\u001b[1;32m---> 11\u001b[0m tfidf_matrix_product1 \u001b[38;5;241m=\u001b[39m vectorizer\u001b[38;5;241m.\u001b[39mfit_transform([product1_ingredients])\n\u001b[0;32m     12\u001b[0m tfidf_matrix_product2 \u001b[38;5;241m=\u001b[39m vectorizer\u001b[38;5;241m.\u001b[39mtransform([product2_ingredients])\n\u001b[0;32m     14\u001b[0m \u001b[38;5;66;03m# Compute cosine similarity between the TF-IDF vectors of the two products\u001b[39;00m\n",
      "File \u001b[1;32mc:\\Users\\bella\\anaconda3\\Lib\\site-packages\\sklearn\\feature_extraction\\text.py:2126\u001b[0m, in \u001b[0;36mTfidfVectorizer.fit_transform\u001b[1;34m(self, raw_documents, y)\u001b[0m\n\u001b[0;32m   2119\u001b[0m \u001b[38;5;28mself\u001b[39m\u001b[38;5;241m.\u001b[39m_check_params()\n\u001b[0;32m   2120\u001b[0m \u001b[38;5;28mself\u001b[39m\u001b[38;5;241m.\u001b[39m_tfidf \u001b[38;5;241m=\u001b[39m TfidfTransformer(\n\u001b[0;32m   2121\u001b[0m     norm\u001b[38;5;241m=\u001b[39m\u001b[38;5;28mself\u001b[39m\u001b[38;5;241m.\u001b[39mnorm,\n\u001b[0;32m   2122\u001b[0m     use_idf\u001b[38;5;241m=\u001b[39m\u001b[38;5;28mself\u001b[39m\u001b[38;5;241m.\u001b[39muse_idf,\n\u001b[0;32m   2123\u001b[0m     smooth_idf\u001b[38;5;241m=\u001b[39m\u001b[38;5;28mself\u001b[39m\u001b[38;5;241m.\u001b[39msmooth_idf,\n\u001b[0;32m   2124\u001b[0m     sublinear_tf\u001b[38;5;241m=\u001b[39m\u001b[38;5;28mself\u001b[39m\u001b[38;5;241m.\u001b[39msublinear_tf,\n\u001b[0;32m   2125\u001b[0m )\n\u001b[1;32m-> 2126\u001b[0m X \u001b[38;5;241m=\u001b[39m \u001b[38;5;28msuper\u001b[39m()\u001b[38;5;241m.\u001b[39mfit_transform(raw_documents)\n\u001b[0;32m   2127\u001b[0m \u001b[38;5;28mself\u001b[39m\u001b[38;5;241m.\u001b[39m_tfidf\u001b[38;5;241m.\u001b[39mfit(X)\n\u001b[0;32m   2128\u001b[0m \u001b[38;5;66;03m# X is already a transformed view of raw_documents so\u001b[39;00m\n\u001b[0;32m   2129\u001b[0m \u001b[38;5;66;03m# we set copy to False\u001b[39;00m\n",
      "File \u001b[1;32mc:\\Users\\bella\\anaconda3\\Lib\\site-packages\\sklearn\\base.py:1151\u001b[0m, in \u001b[0;36m_fit_context.<locals>.decorator.<locals>.wrapper\u001b[1;34m(estimator, *args, **kwargs)\u001b[0m\n\u001b[0;32m   1144\u001b[0m     estimator\u001b[38;5;241m.\u001b[39m_validate_params()\n\u001b[0;32m   1146\u001b[0m \u001b[38;5;28;01mwith\u001b[39;00m config_context(\n\u001b[0;32m   1147\u001b[0m     skip_parameter_validation\u001b[38;5;241m=\u001b[39m(\n\u001b[0;32m   1148\u001b[0m         prefer_skip_nested_validation \u001b[38;5;129;01mor\u001b[39;00m global_skip_validation\n\u001b[0;32m   1149\u001b[0m     )\n\u001b[0;32m   1150\u001b[0m ):\n\u001b[1;32m-> 1151\u001b[0m     \u001b[38;5;28;01mreturn\u001b[39;00m fit_method(estimator, \u001b[38;5;241m*\u001b[39margs, \u001b[38;5;241m*\u001b[39m\u001b[38;5;241m*\u001b[39mkwargs)\n",
      "File \u001b[1;32mc:\\Users\\bella\\anaconda3\\Lib\\site-packages\\sklearn\\feature_extraction\\text.py:1400\u001b[0m, in \u001b[0;36mCountVectorizer.fit_transform\u001b[1;34m(self, raw_documents, y)\u001b[0m\n\u001b[0;32m   1396\u001b[0m     X, \u001b[38;5;28mself\u001b[39m\u001b[38;5;241m.\u001b[39mstop_words_ \u001b[38;5;241m=\u001b[39m \u001b[38;5;28mself\u001b[39m\u001b[38;5;241m.\u001b[39m_limit_features(\n\u001b[0;32m   1397\u001b[0m         X, vocabulary, max_doc_count, min_doc_count, max_features\n\u001b[0;32m   1398\u001b[0m     )\n\u001b[0;32m   1399\u001b[0m     \u001b[38;5;28;01mif\u001b[39;00m max_features \u001b[38;5;129;01mis\u001b[39;00m \u001b[38;5;28;01mNone\u001b[39;00m:\n\u001b[1;32m-> 1400\u001b[0m         X \u001b[38;5;241m=\u001b[39m \u001b[38;5;28mself\u001b[39m\u001b[38;5;241m.\u001b[39m_sort_features(X, vocabulary)\n\u001b[0;32m   1401\u001b[0m     \u001b[38;5;28mself\u001b[39m\u001b[38;5;241m.\u001b[39mvocabulary_ \u001b[38;5;241m=\u001b[39m vocabulary\n\u001b[0;32m   1403\u001b[0m \u001b[38;5;28;01mreturn\u001b[39;00m X\n",
      "File \u001b[1;32mc:\\Users\\bella\\anaconda3\\Lib\\site-packages\\sklearn\\feature_extraction\\text.py:1209\u001b[0m, in \u001b[0;36mCountVectorizer._sort_features\u001b[1;34m(self, X, vocabulary)\u001b[0m\n\u001b[0;32m   1206\u001b[0m     vocabulary[term] \u001b[38;5;241m=\u001b[39m new_val\n\u001b[0;32m   1207\u001b[0m     map_index[old_val] \u001b[38;5;241m=\u001b[39m new_val\n\u001b[1;32m-> 1209\u001b[0m X\u001b[38;5;241m.\u001b[39mindices \u001b[38;5;241m=\u001b[39m map_index\u001b[38;5;241m.\u001b[39mtake(X\u001b[38;5;241m.\u001b[39mindices, mode\u001b[38;5;241m=\u001b[39m\u001b[38;5;124m\"\u001b[39m\u001b[38;5;124mclip\u001b[39m\u001b[38;5;124m\"\u001b[39m)\n\u001b[0;32m   1210\u001b[0m \u001b[38;5;28;01mreturn\u001b[39;00m X\n",
      "\u001b[1;31mKeyboardInterrupt\u001b[0m: "
     ]
    }
   ],
   "source": [
    "tfidf_similarity_matrix = np.zeros((df.shape[0], df.shape[0]))\n",
    "\n",
    "for i in range(df.shape[0]):\n",
    "    print(\"Generating scores for product\", i)\n",
    "    clear_output(wait=True)\n",
    "    for j in range(i+1, df.shape[0]):\n",
    "        tfidf_similarity_matrix[i,j] = calculate_similarity(df.iloc[i,5], df.iloc[j,5])\n",
    "\n",
    "tfidf_similarity_matrix[0:5, 0:5]"
   ]
  }
 ],
 "metadata": {
  "kernelspec": {
   "display_name": "Python 3 (ipykernel)",
   "language": "python",
   "name": "python3"
  },
  "language_info": {
   "codemirror_mode": {
    "name": "ipython",
    "version": 3
   },
   "file_extension": ".py",
   "mimetype": "text/x-python",
   "name": "python",
   "nbconvert_exporter": "python",
   "pygments_lexer": "ipython3",
   "version": "3.11.5"
  }
 },
 "nbformat": 4,
 "nbformat_minor": 5
}
