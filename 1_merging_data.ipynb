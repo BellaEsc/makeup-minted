{
 "cells": [
  {
   "cell_type": "markdown",
   "metadata": {},
   "source": [
    "# Merging Data\n",
    "Steps to consider:\n",
    "* Want to use weighted similarity\n",
    "    * multiply the similarity score of each ingredient pair by its corresponding weight based on the relative positions of the ingredients in their respective lists\n",
    "    * Sum up the weighted similarity scores across all ingredient pairs to obtain an overall similarity score between the two products\n",
    "    * Assign higher weights to ingredients that are closer together, and higher weights if they are closer to 1 in the list\n",
    "* Need to match ingredients to their place in the ingredient_info data set"
   ]
  },
  {
   "cell_type": "code",
   "execution_count": 2,
   "metadata": {},
   "outputs": [],
   "source": [
    "import pandas as pd\n",
    "import re as re"
   ]
  },
  {
   "cell_type": "code",
   "execution_count": 3,
   "metadata": {},
   "outputs": [],
   "source": [
    "ingredients = pd.read_csv(\"data/ingredient_info_processed.csv\")\n",
    "products = pd.read_csv(\"data/skincare_products_processed.csv\")"
   ]
  },
  {
   "cell_type": "code",
   "execution_count": 16,
   "metadata": {},
   "outputs": [
    {
     "data": {
      "text/html": [
       "<div>\n",
       "<style scoped>\n",
       "    .dataframe tbody tr th:only-of-type {\n",
       "        vertical-align: middle;\n",
       "    }\n",
       "\n",
       "    .dataframe tbody tr th {\n",
       "        vertical-align: top;\n",
       "    }\n",
       "\n",
       "    .dataframe thead th {\n",
       "        text-align: right;\n",
       "    }\n",
       "</style>\n",
       "<table border=\"1\" class=\"dataframe\">\n",
       "  <thead>\n",
       "    <tr style=\"text-align: right;\">\n",
       "      <th></th>\n",
       "      <th>Label</th>\n",
       "      <th>Brand</th>\n",
       "      <th>Name</th>\n",
       "      <th>Price</th>\n",
       "      <th>Rank</th>\n",
       "      <th>Combination</th>\n",
       "      <th>Dry</th>\n",
       "      <th>Normal</th>\n",
       "      <th>Oily</th>\n",
       "      <th>Sensitive</th>\n",
       "      <th>Ingredient_Placement</th>\n",
       "      <th>Ingredient</th>\n",
       "    </tr>\n",
       "  </thead>\n",
       "  <tbody>\n",
       "    <tr>\n",
       "      <th>0</th>\n",
       "      <td>Moisturizer</td>\n",
       "      <td>LA MER</td>\n",
       "      <td>Crème de la Mer</td>\n",
       "      <td>175</td>\n",
       "      <td>4.1</td>\n",
       "      <td>1</td>\n",
       "      <td>1</td>\n",
       "      <td>1</td>\n",
       "      <td>1</td>\n",
       "      <td>1</td>\n",
       "      <td>1</td>\n",
       "      <td>Algae (Seaweed) Extract</td>\n",
       "    </tr>\n",
       "    <tr>\n",
       "      <th>1</th>\n",
       "      <td>Moisturizer</td>\n",
       "      <td>LA MER</td>\n",
       "      <td>Crème de la Mer</td>\n",
       "      <td>175</td>\n",
       "      <td>4.1</td>\n",
       "      <td>1</td>\n",
       "      <td>1</td>\n",
       "      <td>1</td>\n",
       "      <td>1</td>\n",
       "      <td>1</td>\n",
       "      <td>2</td>\n",
       "      <td>Mineral Oil</td>\n",
       "    </tr>\n",
       "    <tr>\n",
       "      <th>2</th>\n",
       "      <td>Moisturizer</td>\n",
       "      <td>LA MER</td>\n",
       "      <td>Crème de la Mer</td>\n",
       "      <td>175</td>\n",
       "      <td>4.1</td>\n",
       "      <td>1</td>\n",
       "      <td>1</td>\n",
       "      <td>1</td>\n",
       "      <td>1</td>\n",
       "      <td>1</td>\n",
       "      <td>3</td>\n",
       "      <td>Petrolatum</td>\n",
       "    </tr>\n",
       "  </tbody>\n",
       "</table>\n",
       "</div>"
      ],
      "text/plain": [
       "         Label   Brand             Name  Price  Rank  Combination  Dry  \\\n",
       "0  Moisturizer  LA MER  Crème de la Mer    175   4.1            1    1   \n",
       "1  Moisturizer  LA MER  Crème de la Mer    175   4.1            1    1   \n",
       "2  Moisturizer  LA MER  Crème de la Mer    175   4.1            1    1   \n",
       "\n",
       "   Normal  Oily  Sensitive  Ingredient_Placement               Ingredient  \n",
       "0       1     1          1                     1  Algae (Seaweed) Extract  \n",
       "1       1     1          1                     2              Mineral Oil  \n",
       "2       1     1          1                     3               Petrolatum  "
      ]
     },
     "execution_count": 16,
     "metadata": {},
     "output_type": "execute_result"
    }
   ],
   "source": [
    "products[products['Name'] == \"Crème de la Mer\"].head(3)"
   ]
  },
  {
   "cell_type": "code",
   "execution_count": 15,
   "metadata": {},
   "outputs": [],
   "source": [
    "def ingredient_in_INCI(inci, ingredient_name):\n",
    "    cleaned_inci_text = re.sub(r'[^\\w\\s]', ' ', inci).lower()\n",
    "    words_in_inci = set(cleaned_inci_text.split())\n",
    "    cleaned_ingredient_text = re.sub(r'[^\\w\\s]', ' ', ingredient_name).lower()\n",
    "    words_in_name = set(cleaned_ingredient_text.split())\n",
    "\n",
    "    return (words_in_name <= words_in_inci)\n",
    "\n",
    "\n",
    "def get_shortest_INCI(df, ingredient_name):\n",
    "    ''' \n",
    "    Takes the ingredients dataframe (df) and an ingredient name\n",
    "    as arguments, then returns the matching row from the dataframe if\n",
    "    a match is found. Otherwise, returns an empty row.\n",
    "    '''\n",
    "    filtered_df = \\\n",
    "        df[df['INCI name'].apply(lambda x: ingredient_in_INCI(x, ingredient_name))]\n",
    "    \n",
    "    if filtered_df.size == 0:\n",
    "        ingredient_name_clean = re.sub(r'\\([^)]*\\)', '', ingredient_name)\n",
    "\n",
    "        filtered_df = \\\n",
    "            df[df['INCI name'].apply(lambda x: ingredient_in_INCI(x, ingredient_name_clean))]\n",
    "        \n",
    "        if filtered_df.size == 0:\n",
    "            return filtered_df\n",
    "        \n",
    "    shortest_index = filtered_df['INCI name'].str.len().idxmin()\n",
    "    return filtered_df.loc[[shortest_index]]\n",
    "    "
   ]
  },
  {
   "cell_type": "code",
   "execution_count": 84,
   "metadata": {},
   "outputs": [
    {
     "data": {
      "text/html": [
       "<div>\n",
       "<style scoped>\n",
       "    .dataframe tbody tr th:only-of-type {\n",
       "        vertical-align: middle;\n",
       "    }\n",
       "\n",
       "    .dataframe tbody tr th {\n",
       "        vertical-align: top;\n",
       "    }\n",
       "\n",
       "    .dataframe thead th {\n",
       "        text-align: right;\n",
       "    }\n",
       "</style>\n",
       "<table border=\"1\" class=\"dataframe\">\n",
       "  <thead>\n",
       "    <tr style=\"text-align: right;\">\n",
       "      <th></th>\n",
       "      <th>COSING Ref No</th>\n",
       "      <th>INCI name</th>\n",
       "      <th>INN name</th>\n",
       "      <th>Ph. Eur. Name</th>\n",
       "      <th>CAS No</th>\n",
       "      <th>EC No</th>\n",
       "      <th>Chem/IUPAC Name / Description</th>\n",
       "      <th>Restriction</th>\n",
       "      <th>Function</th>\n",
       "      <th>Update Date</th>\n",
       "    </tr>\n",
       "  </thead>\n",
       "  <tbody>\n",
       "    <tr>\n",
       "      <th>1475</th>\n",
       "      <td>54290</td>\n",
       "      <td>ALGAE EXTRACT</td>\n",
       "      <td>NaN</td>\n",
       "      <td>NaN</td>\n",
       "      <td>92128-82-0 / 68917-51-1</td>\n",
       "      <td>295-780-4 / -</td>\n",
       "      <td>Algae Extract is an extract of various species...</td>\n",
       "      <td>NaN</td>\n",
       "      <td>FRAGRANCE, HUMECTANT, ORAL CARE, SKIN CONDITIO...</td>\n",
       "      <td>15/10/2010</td>\n",
       "    </tr>\n",
       "  </tbody>\n",
       "</table>\n",
       "</div>"
      ],
      "text/plain": [
       "      COSING Ref No      INCI name INN name Ph. Eur. Name  \\\n",
       "1475          54290  ALGAE EXTRACT      NaN           NaN   \n",
       "\n",
       "                        CAS No           EC No  \\\n",
       "1475   92128-82-0 / 68917-51-1   295-780-4 / -   \n",
       "\n",
       "                          Chem/IUPAC Name / Description Restriction  \\\n",
       "1475  Algae Extract is an extract of various species...         NaN   \n",
       "\n",
       "                                               Function Update Date  \n",
       "1475  FRAGRANCE, HUMECTANT, ORAL CARE, SKIN CONDITIO...  15/10/2010  "
      ]
     },
     "execution_count": 84,
     "metadata": {},
     "output_type": "execute_result"
    }
   ],
   "source": [
    "get_shortest_INCI(ingredients, \"Algae (Seaweed) Extract\")"
   ]
  },
  {
   "cell_type": "code",
   "execution_count": 14,
   "metadata": {},
   "outputs": [
    {
     "data": {
      "text/plain": [
       "'COLORANT'"
      ]
     },
     "execution_count": 14,
     "metadata": {},
     "output_type": "execute_result"
    }
   ],
   "source": [
    "# Gets the function for the ingredient CI 14700 (Red 4)\n",
    "get_shortest_INCI(ingredients, \"CI 14700 (Red 4)\")['Function'].iloc[0]"
   ]
  }
 ],
 "metadata": {
  "kernelspec": {
   "display_name": "base",
   "language": "python",
   "name": "python3"
  },
  "language_info": {
   "codemirror_mode": {
    "name": "ipython",
    "version": 3
   },
   "file_extension": ".py",
   "mimetype": "text/x-python",
   "name": "python",
   "nbconvert_exporter": "python",
   "pygments_lexer": "ipython3",
   "version": "3.11.5"
  }
 },
 "nbformat": 4,
 "nbformat_minor": 2
}
