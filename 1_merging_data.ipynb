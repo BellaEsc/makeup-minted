{
  "cells": [
    {
      "cell_type": "markdown",
      "metadata": {},
      "source": [
        "# Merging Data\n",
        "Steps to consider:\n",
        "* Want to use weighted similarity\n",
        "    * multiply the similarity score of each ingredient pair by its corresponding weight based on the relative positions of the ingredients in their respective lists\n",
        "    * Sum up the weighted similarity scores across all ingredient pairs to obtain an overall similarity score between the two products\n",
        "    * Assign higher weights to ingredients that are closer together, and higher weights if they are closer to 1 in the list\n",
        "* Need to match ingredients to their place in the ingredient_info data set"
      ]
    },
    {
      "cell_type": "code",
      "execution_count": 25,
      "metadata": {
        "id": "KTLOSfoU6OLW"
      },
      "outputs": [],
      "source": [
        "import pandas as pd\n",
        "import re as re\n",
        "import numpy as np\n",
        "from IPython.display import display, clear_output"
      ]
    },
    {
      "cell_type": "code",
      "execution_count": 3,
      "metadata": {
        "id": "WBJL_AKW8Hjw"
      },
      "outputs": [],
      "source": [
        "ingredients = pd.read_csv('data/ingredient_info_processed.csv')\n",
        "products = pd.read_csv('data/skincare_products_processed.csv')"
      ]
    },
    {
      "cell_type": "code",
      "execution_count": 4,
      "metadata": {
        "id": "TUtOYaZf6cJ9"
      },
      "outputs": [],
      "source": [
        "def ingredient_in_INCI(inci, ingredient_name):\n",
        "    '''\n",
        "    Takes two string arguments: an official INCI name, and an ingredient\n",
        "    (as listed in the product dataframe). Returns True if every word in\n",
        "    the ingredient name can be found in the INCI name. \n",
        "\n",
        "    This is a helper function used in get_shortest_INCI().\n",
        "    '''\n",
        "\n",
        "    # Removes whitespace and punctuation and puts text in lowercase\n",
        "    cleaned_inci_text = re.sub(r'[^\\w\\s]', ' ', inci).lower() \n",
        "    cleaned_ingredient_text = re.sub(r'[^\\w\\s]', ' ', ingredient_name).lower()\n",
        "\n",
        "    # Creates a set from the cleaned text which contains all of the words\n",
        "    # in the cleaned up string\n",
        "    words_in_inci = set(cleaned_inci_text.split())\n",
        "    words_in_name = set(cleaned_ingredient_text.split())\n",
        "\n",
        "    # Using set comparison: if the words in ingredient name are a subset\n",
        "    # of the words in the inci name, return True. Otherwise, return False.\n",
        "    return (words_in_name <= words_in_inci)\n",
        "\n",
        "\n",
        "\n",
        "def get_shortest_INCI(df, ingredient_name):\n",
        "    ''' \n",
        "    Takes the ingredients dataframe (df) and an ingredient name\n",
        "    as arguments, then returns the matching row from the dataframe if\n",
        "    a match is found. Otherwise, returns an empty row.\n",
        "    '''\n",
        "\n",
        "    # Uses ingredient_in_INCI to map and filter the df by whether the  given \n",
        "    # ingredient name matches an INCI name in the df. \n",
        "    filtered_df = \\\n",
        "        df[df['INCI name'].apply(lambda x: ingredient_in_INCI(x, ingredient_name))]\n",
        "    \n",
        "    # If no matches are found, try searching again but with removing words \n",
        "    # that are surrounded by parenthesis.\n",
        "    if filtered_df.size == 0:\n",
        "        ingredient_name_clean = re.sub(r'\\([^)]*\\)', '', ingredient_name)\n",
        "\n",
        "        filtered_df = \\\n",
        "            df[df['INCI name'].apply(lambda x: ingredient_in_INCI(x, ingredient_name_clean))]\n",
        "        \n",
        "        # If there are still no matches, return the empty dataframe\n",
        "        if filtered_df.size == 0:\n",
        "            return filtered_df\n",
        "\n",
        "    # If there are multiple matches, return only the row with the\n",
        "    # shortest INCI name. Ensures only one row is returned.  \n",
        "    shortest_index = filtered_df['INCI name'].str.len().idxmin()\n",
        "    return filtered_df.loc[[shortest_index]]\n"
      ]
    },
    {
      "cell_type": "code",
      "execution_count": 26,
      "metadata": {
        "id": "wGYqPSHd8bEs"
      },
      "outputs": [],
      "source": [
        "def combine_ingredients_and_info(product_df, ingredient_df, copy = True):\n",
        "  '''\n",
        "  Takes the products and ingredients dataframes as arguments, then adds INCI name, \n",
        "  COSING Ref No, Description, and Function of matching ingredients from the\n",
        "  ingredients dataframe to the products dataframe.\n",
        "  If copy = True, returns a copy of the dataframe. Otherwise, it returns the\n",
        "  modified product_df.\n",
        "  '''\n",
        "  def combine(product_df, ingredient_df):\n",
        "    # Initializes the empty new columns\n",
        "    product_df['INCI name'] = \"\"\n",
        "    product_df['COSING Ref No'] = np.nan\n",
        "    product_df['Ingredient Description'] = \"\"\n",
        "    product_df['Ingredient Function'] = \"\"\n",
        "\n",
        "    for index, row in product_df.iterrows():\n",
        "      # Gets the ingredient name and finds the matching row in ingredient_df\n",
        "      # using helper function get_shortest_INCI\n",
        "      ingredient_name = str(row['Ingredient'])\n",
        "      INCI_details = get_shortest_INCI(ingredient_df, ingredient_name)\n",
        "\n",
        "      message = f\"Adding row {index}...\"\n",
        "      display(message)\n",
        "\n",
        "      # If a match is found, then fill in the row with the matching info.\n",
        "      # Otherwise, the row will remain at its default (empty) values.\n",
        "      if INCI_details.size > 0:\n",
        "        product_df.at[index, 'INCI name'] = \\\n",
        "          INCI_details['INCI name'].iloc[0]\n",
        "        \n",
        "        product_df.at[index, 'COSING Ref No'] = \\\n",
        "          INCI_details['COSING Ref No'].iloc[0]\n",
        "        \n",
        "        product_df.at[index, 'Ingredient Description'] = \\\n",
        "          INCI_details['Chem/IUPAC Name / Description'].iloc[0]\n",
        "        \n",
        "        product_df.at[index, 'Ingredient Function'] = \\\n",
        "          INCI_details['Function'].iloc[0]\n",
        "      \n",
        "      clear_output(wait=True)\n",
        "\n",
        "    return product_df\n",
        "\n",
        "  # If copy is True, then create a deep copy and return the copy. Otherwise,\n",
        "  # return the modified df.\n",
        "  if copy:\n",
        "    product_df_copy = product_df.copy()\n",
        "    return combine(product_df_copy, ingredient_df)\n",
        "  \n",
        "  return combine(product_df, ingredient_df)"
      ]
    },
    {
      "cell_type": "code",
      "execution_count": 27,
      "metadata": {
        "colab": {
          "base_uri": "https://localhost:8080/",
          "height": 311
        },
        "id": "MhD8Qf1o_Vk9",
        "outputId": "293fb89e-0b82-4a0d-ed57-1d1b20c7da31"
      },
      "outputs": [
        {
          "data": {
            "text/plain": [
              "'Adding row 45815...'"
            ]
          },
          "metadata": {},
          "output_type": "display_data"
        }
      ],
      "source": [
        "combined_df = combine_ingredients_and_info(products, ingredients, copy=False)"
      ]
    },
    {
      "cell_type": "code",
      "execution_count": 34,
      "metadata": {},
      "outputs": [
        {
          "data": {
            "text/html": [
              "<div>\n",
              "<style scoped>\n",
              "    .dataframe tbody tr th:only-of-type {\n",
              "        vertical-align: middle;\n",
              "    }\n",
              "\n",
              "    .dataframe tbody tr th {\n",
              "        vertical-align: top;\n",
              "    }\n",
              "\n",
              "    .dataframe thead th {\n",
              "        text-align: right;\n",
              "    }\n",
              "</style>\n",
              "<table border=\"1\" class=\"dataframe\">\n",
              "  <thead>\n",
              "    <tr style=\"text-align: right;\">\n",
              "      <th></th>\n",
              "      <th>Label</th>\n",
              "      <th>Brand</th>\n",
              "      <th>Name</th>\n",
              "      <th>Price</th>\n",
              "      <th>Rank</th>\n",
              "      <th>Ingredient_Placement</th>\n",
              "      <th>Ingredient</th>\n",
              "      <th>INCI name</th>\n",
              "      <th>COSING Ref No</th>\n",
              "      <th>Ingredient Description</th>\n",
              "      <th>Ingredient Function</th>\n",
              "    </tr>\n",
              "  </thead>\n",
              "  <tbody>\n",
              "    <tr>\n",
              "      <th>0</th>\n",
              "      <td>Moisturizer</td>\n",
              "      <td>LA MER</td>\n",
              "      <td>Crème de la Mer</td>\n",
              "      <td>175</td>\n",
              "      <td>4.1</td>\n",
              "      <td>1</td>\n",
              "      <td>Algae (Seaweed) Extract</td>\n",
              "      <td>ALGAE EXTRACT</td>\n",
              "      <td>54290.0</td>\n",
              "      <td>Algae Extract is an extract of various species...</td>\n",
              "      <td>FRAGRANCE, HUMECTANT, ORAL CARE, SKIN CONDITIO...</td>\n",
              "    </tr>\n",
              "    <tr>\n",
              "      <th>1</th>\n",
              "      <td>Moisturizer</td>\n",
              "      <td>LA MER</td>\n",
              "      <td>Crème de la Mer</td>\n",
              "      <td>175</td>\n",
              "      <td>4.1</td>\n",
              "      <td>2</td>\n",
              "      <td>Mineral Oil</td>\n",
              "      <td>HYDROGENATED MINERAL OIL</td>\n",
              "      <td>95058.0</td>\n",
              "      <td>Hydrogenated Mineral Oil is the end product of...</td>\n",
              "      <td>SKIN PROTECTING</td>\n",
              "    </tr>\n",
              "    <tr>\n",
              "      <th>2</th>\n",
              "      <td>Moisturizer</td>\n",
              "      <td>LA MER</td>\n",
              "      <td>Crème de la Mer</td>\n",
              "      <td>175</td>\n",
              "      <td>4.1</td>\n",
              "      <td>3</td>\n",
              "      <td>Petrolatum</td>\n",
              "      <td>PETROLATUM</td>\n",
              "      <td>79504.0</td>\n",
              "      <td>Petrolatum. A complex combination of hydrocarb...</td>\n",
              "      <td>ANTISTATIC, SKIN CONDITIONING - EMOLLIENT</td>\n",
              "    </tr>\n",
              "    <tr>\n",
              "      <th>3</th>\n",
              "      <td>Moisturizer</td>\n",
              "      <td>LA MER</td>\n",
              "      <td>Crème de la Mer</td>\n",
              "      <td>175</td>\n",
              "      <td>4.1</td>\n",
              "      <td>4</td>\n",
              "      <td>Glycerin</td>\n",
              "      <td>GLYCERIN</td>\n",
              "      <td>34040.0</td>\n",
              "      <td>Glycerine ;Glycerol (INN); Glycerol (RIFM); G...</td>\n",
              "      <td>DENATURANT, HAIR CONDITIONING, HUMECTANT, ORAL...</td>\n",
              "    </tr>\n",
              "    <tr>\n",
              "      <th>4</th>\n",
              "      <td>Moisturizer</td>\n",
              "      <td>LA MER</td>\n",
              "      <td>Crème de la Mer</td>\n",
              "      <td>175</td>\n",
              "      <td>4.1</td>\n",
              "      <td>5</td>\n",
              "      <td>Isohexadecane</td>\n",
              "      <td>ISOHEXADECANE</td>\n",
              "      <td>34654.0</td>\n",
              "      <td>Hydrocarbons, C4, 1,3-butadiene-free, polym., ...</td>\n",
              "      <td>SKIN CONDITIONING, SKIN CONDITIONING - EMOLLIE...</td>\n",
              "    </tr>\n",
              "  </tbody>\n",
              "</table>\n",
              "</div>"
            ],
            "text/plain": [
              "         Label   Brand             Name  Price  Rank  Ingredient_Placement  \\\n",
              "0  Moisturizer  LA MER  Crème de la Mer    175   4.1                     1   \n",
              "1  Moisturizer  LA MER  Crème de la Mer    175   4.1                     2   \n",
              "2  Moisturizer  LA MER  Crème de la Mer    175   4.1                     3   \n",
              "3  Moisturizer  LA MER  Crème de la Mer    175   4.1                     4   \n",
              "4  Moisturizer  LA MER  Crème de la Mer    175   4.1                     5   \n",
              "\n",
              "                Ingredient                 INCI name  COSING Ref No  \\\n",
              "0  Algae (Seaweed) Extract             ALGAE EXTRACT        54290.0   \n",
              "1              Mineral Oil  HYDROGENATED MINERAL OIL        95058.0   \n",
              "2               Petrolatum                PETROLATUM        79504.0   \n",
              "3                 Glycerin                  GLYCERIN        34040.0   \n",
              "4            Isohexadecane             ISOHEXADECANE        34654.0   \n",
              "\n",
              "                              Ingredient Description  \\\n",
              "0  Algae Extract is an extract of various species...   \n",
              "1  Hydrogenated Mineral Oil is the end product of...   \n",
              "2  Petrolatum. A complex combination of hydrocarb...   \n",
              "3   Glycerine ;Glycerol (INN); Glycerol (RIFM); G...   \n",
              "4  Hydrocarbons, C4, 1,3-butadiene-free, polym., ...   \n",
              "\n",
              "                                 Ingredient Function  \n",
              "0  FRAGRANCE, HUMECTANT, ORAL CARE, SKIN CONDITIO...  \n",
              "1                                    SKIN PROTECTING  \n",
              "2          ANTISTATIC, SKIN CONDITIONING - EMOLLIENT  \n",
              "3  DENATURANT, HAIR CONDITIONING, HUMECTANT, ORAL...  \n",
              "4  SKIN CONDITIONING, SKIN CONDITIONING - EMOLLIE...  "
            ]
          },
          "execution_count": 34,
          "metadata": {},
          "output_type": "execute_result"
        }
      ],
      "source": [
        "combined_df.drop(columns=[\"Combination\", \"Dry\", \"Oily\", \"Normal\", \"Sensitive\"]).head()"
      ]
    },
    {
      "cell_type": "code",
      "execution_count": 35,
      "metadata": {},
      "outputs": [],
      "source": [
        "combined_df.to_csv(\"data/skincare_products_merged.csv\", index=False)"
      ]
    }
  ],
  "metadata": {
    "colab": {
      "provenance": []
    },
    "kernelspec": {
      "display_name": "Python 3",
      "name": "python3"
    },
    "language_info": {
      "codemirror_mode": {
        "name": "ipython",
        "version": 3
      },
      "file_extension": ".py",
      "mimetype": "text/x-python",
      "name": "python",
      "nbconvert_exporter": "python",
      "pygments_lexer": "ipython3",
      "version": "3.11.5"
    }
  },
  "nbformat": 4,
  "nbformat_minor": 0
}
