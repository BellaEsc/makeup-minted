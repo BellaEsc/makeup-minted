{
  "nbformat": 4,
  "nbformat_minor": 0,
  "metadata": {
    "colab": {
      "provenance": []
    },
    "kernelspec": {
      "name": "python3",
      "display_name": "Python 3"
    },
    "language_info": {
      "name": "python"
    }
  },
  "cells": [
    {
      "cell_type": "code",
      "execution_count": 35,
      "metadata": {
        "colab": {
          "base_uri": "https://localhost:8080/"
        },
        "id": "IWOSibkMMSJ5",
        "outputId": "72b4b6f2-66c4-4f43-855f-b35285890e31"
      },
      "outputs": [
        {
          "output_type": "stream",
          "name": "stderr",
          "text": [
            "[nltk_data] Downloading package punkt to /root/nltk_data...\n",
            "[nltk_data]   Package punkt is already up-to-date!\n",
            "[nltk_data] Downloading package stopwords to /root/nltk_data...\n",
            "[nltk_data]   Package stopwords is already up-to-date!\n"
          ]
        },
        {
          "output_type": "execute_result",
          "data": {
            "text/plain": [
              "True"
            ]
          },
          "metadata": {},
          "execution_count": 35
        }
      ],
      "source": [
        "# packages\n",
        "\n",
        "import math\n",
        "import pandas as pd\n",
        "import nltk\n",
        "nltk.download('punkt')\n",
        "nltk.download('stopwords')"
      ]
    },
    {
      "cell_type": "code",
      "source": [
        "# creating the dataframe with original skincare products dataset\n",
        "\n",
        "products = pd.read_csv('skincare_products.csv')"
      ],
      "metadata": {
        "id": "JJupghS8MnPz"
      },
      "execution_count": 27,
      "outputs": []
    },
    {
      "cell_type": "code",
      "source": [
        "def cosine_similarity(X, Y):\n",
        "\n",
        "  # establish stop words\n",
        "  X_list = word_tokenize(X)\n",
        "  Y_list = word_tokenize(Y)\n",
        "  sw = stopwords.words('english')\n",
        "  l1 =[];l2 =[]\n",
        "\n",
        "  # remove stop words from strings\n",
        "  X_set = {w for w in X_list if not w in sw}\n",
        "  Y_set = {w for w in Y_list if not w in sw}\n",
        "\n",
        "  # form set with words from both strings\n",
        "  rvector = X_set.union(Y_set)\n",
        "  for w in rvector:\n",
        "    if w in X_set: l1.append(1) # create a vector\n",
        "    else: l1.append(0)\n",
        "    if w in Y_set: l2.append(1)\n",
        "    else: l2.append(0)\n",
        "  c = 0\n",
        "\n",
        "  # cosine similarity formula\n",
        "  for i in range(len(rvector)):\n",
        "    c+= l1[i]*l2[i]\n",
        "    cosine = c / float((sum(l1)*sum(l2))**0.5)\n",
        "\n",
        "  return cosine"
      ],
      "metadata": {
        "id": "Mg8H5HkbQPPf"
      },
      "execution_count": 45,
      "outputs": []
    },
    {
      "cell_type": "code",
      "source": [
        "# testing cosine_similarity function on products in database\n",
        "\n",
        "# comparing first and second products in the skincare products database\n",
        "test = cosine_similarity(products.iloc[0, 5], products.iloc[1, 5])\n",
        "print(test)\n",
        "\n",
        "# comparing first and third products in the skincare products database\n",
        "test2 = cosine_similarity(products.iloc[0, 5], products.iloc[2, 5])\n",
        "print(test2)\n",
        "\n",
        "# comparing first and fourth products in the skincare products database\n",
        "test2 = cosine_similarity(products.iloc[0, 5], products.iloc[3, 5])\n",
        "print(test2)\n",
        "\n",
        "print('Out of these comparisons, products 1 and 4 are most similar with this method')"
      ],
      "metadata": {
        "colab": {
          "base_uri": "https://localhost:8080/"
        },
        "id": "EVlsTFIUOL_8",
        "outputId": "bcec62f1-c24a-4913-bc0c-93d093aa415a"
      },
      "execution_count": 51,
      "outputs": [
        {
          "output_type": "stream",
          "name": "stdout",
          "text": [
            "0.22555354977384037\n",
            "0.1487044791289829\n",
            "0.5283120976241462\n",
            "Out of these comparisons, products 1 and 4 are most similar with this method\n"
          ]
        }
      ]
    }
  ]
}